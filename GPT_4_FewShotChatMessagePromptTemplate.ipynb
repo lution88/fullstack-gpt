{
 "cells": [
  {
   "cell_type": "code",
   "execution_count": 1,
   "metadata": {},
   "outputs": [],
   "source": [
    "from langchain.chat_models import ChatOpenAI\n",
    "from langchain.prompts import ChatPromptTemplate, PromptTemplate\n",
    "from langchain.callbacks import StreamingStdOutCallbackHandler\n",
    "\n",
    "# FewShotPromptTemplate\n",
    "from langchain.prompts.few_shot import FewShotPromptTemplate\n",
    "\n",
    "\n",
    "chat = ChatOpenAI(\n",
    "    temperature=0.1,\n",
    "    streaming=True,\n",
    "    callbacks=[\n",
    "        StreamingStdOutCallbackHandler(),\n",
    "    ],\n",
    ")\n"
   ]
  },
  {
   "cell_type": "code",
   "execution_count": 2,
   "metadata": {},
   "outputs": [
    {
     "data": {
      "text/plain": [
       "'What is the capital of korea.'"
      ]
     },
     "execution_count": 2,
     "metadata": {},
     "output_type": "execute_result"
    }
   ],
   "source": [
    "# 기본 PromptTemplate 사용 시\n",
    "t = PromptTemplate.from_template(\"What is the capital of {country}.\")\n",
    "\n",
    "t.format(country=\"korea\")\n",
    "\n",
    "# prompt template의 유효성 테스트 : t.format() - country 를 넣지 않으면 에러 발생"
   ]
  },
  {
   "cell_type": "code",
   "execution_count": null,
   "metadata": {},
   "outputs": [
    {
     "data": {
      "text/plain": [
       "'What is the capital of korea.'"
      ]
     },
     "execution_count": 4,
     "metadata": {},
     "output_type": "execute_result"
    }
   ],
   "source": [
    "# 다른 방식의 promptTemplate\n",
    "t = PromptTemplate(\n",
    "    template=\"What is the capital of {country}.\",\n",
    "    # 입력변수전달 - template의 변수가 무엇인지 알려준다.\n",
    "    input_variables=[\"country\"],\n",
    ")\n",
    "\n",
    "t.format(country=\"korea\")"
   ]
  },
  {
   "cell_type": "markdown",
   "metadata": {},
   "source": [
    "prompt template 사용하는 이유?\n",
    "prompt template를 디스크에 저장하고 load 할 수 있기 때문.\n"
   ]
  },
  {
   "cell_type": "markdown",
   "metadata": {},
   "source": [
    "FewShotPromptTemplate 와 Fewshot Learning 이란?\n",
    "\n",
    "Fewshot 은 모델에게 예제들을 준다는 뜻과 같다.  \n",
    "모델에게 어떻게 대답해야 하는 지에 대한 예제를 AI 모델에게 주는 것.  \n",
    "\n",
    "왜 주는가?\n",
    "prompt 로 콤마를 써서 구분해줘, 소문자만 써야해 등의 주문을 일일이 전달하는것보다  \n",
    "내가 원하는 예제를 보여주는 것이 더 성공적!  \n",
    "왜냐면 모델이 텍스트를 만들기 때문이다.  \n",
    "즉, prompt 로 명령하는것보다 어떻게 대답해야 하는지에 대한 예제를 제공해 주는 것이 더 나은 방법이다.  \n",
    "\n",
    "\n"
   ]
  },
  {
   "cell_type": "code",
   "execution_count": null,
   "metadata": {},
   "outputs": [
    {
     "name": "stdout",
     "output_type": "stream",
     "text": [
      "Korea is a country located in East Asia, divided into two separate sovereign states: North Korea and South Korea. South Korea is a developed country with a high standard of living, while North Korea is a totalitarian regime with a heavily controlled economy and limited freedoms for its citizens.\n",
      "\n",
      "Korea has a rich cultural heritage, including traditional music, dance, and cuisine. The Korean language is unique and has its own writing system called Hangul.\n",
      "\n",
      "Korea has a long history of conflict and division, with the Korean War in the 1950s resulting in the current division of the country. The two Koreas have had tense relations ever since, with occasional flare-ups of violence and threats of nuclear war.\n",
      "\n",
      "South Korea is known for its technological advancements, particularly in the electronics and automotive industries. It is home to companies like Samsung, LG, and Hyundai.\n",
      "\n",
      "Korean pop culture, known as K-pop, has gained international popularity in recent years, with groups like BTS and Blackpink achieving global success.\n",
      "\n",
      "Overall, Korea is a fascinating and complex country with a unique blend of tradition and modernity."
     ]
    }
   ],
   "source": [
    "# 예제 없이 물어보기\n",
    "chat.predict(\"what do you know about Korea.\")"
   ]
  },
  {
   "cell_type": "code",
   "execution_count": null,
   "metadata": {},
   "outputs": [
    {
     "name": "stdout",
     "output_type": "stream",
     "text": [
      "AI: \n",
      "        Here is what I know:\n",
      "        Capital: Seoul\n",
      "        Language: Korean\n",
      "        Food: Kimchi and Bulgogi\n",
      "        Currency: South Korean Won"
     ]
    },
    {
     "data": {
      "text/plain": [
       "AIMessageChunk(content='AI: \\n        Here is what I know:\\n        Capital: Seoul\\n        Language: Korean\\n        Food: Kimchi and Bulgogi\\n        Currency: South Korean Won')"
      ]
     },
     "execution_count": 3,
     "metadata": {},
     "output_type": "execute_result"
    }
   ],
   "source": [
    "# 예제를 형식화 하는 방법\n",
    "# 예제들\n",
    "examples = [\n",
    "    {\n",
    "        \"question\": \"What do you know about France?\",\n",
    "        \"answer\": \"\"\"\n",
    "        Here is what I know:\n",
    "        Capital: Paris\n",
    "        Language: French\n",
    "        Food: Wine and Cheese\n",
    "        Currency: Euro\n",
    "        \"\"\",\n",
    "    },\n",
    "    {\n",
    "        \"question\": \"What do you know about Italy?\",\n",
    "        \"answer\": \"\"\"\n",
    "        I know this:\n",
    "        Capital: Rome\n",
    "        Language: Italian\n",
    "        Food: Pizza and Pasta\n",
    "        Currency: Euro\n",
    "        \"\"\",\n",
    "    },\n",
    "    {\n",
    "        \"question\": \"What do you know about Greece?\",\n",
    "        \"answer\": \"\"\"\n",
    "        I know this:\n",
    "        Capital: Athens\n",
    "        Language: Greek\n",
    "        Food: Souvlaki and Feta Cheese\n",
    "        Currency: Euro\n",
    "        \"\"\",\n",
    "    },\n",
    "]\n",
    "\n",
    "# 예제 템플릿: example의 question, answer 처럼 동일한 변수를 사용해야 한다.\n",
    "example_template = \"\"\"\n",
    "    Human: {question}\n",
    "    AI: {answer}\n",
    "\"\"\"\n",
    "# 예제 prompt 작성\n",
    "example_prompt = PromptTemplate.from_template(example_template)\n",
    "\n",
    "# 실제 prompt 만들기\n",
    "prompt = FewShotPromptTemplate(\n",
    "    example_prompt=example_prompt,\n",
    "    examples=examples,\n",
    "    # 질문 suffix: 형식화 된 모든 예제 마지막에 나오는 내용.(형식화가 끝나고 진짜 질문(동일한 형식)이 나온다.)\n",
    "    suffix=\"question: What do you know about {country}?\",\n",
    "    input_variables=[\"country\"],\n",
    ") # 우리는 prompt 를 사용해서 각각의 예제들을 형식화 했다.\n",
    "\n",
    "# format\n",
    "prompt.format(country=\"korea\")\n",
    "\n",
    "chain = prompt | chat\n",
    "\n",
    "chain.invoke({\n",
    "    \"country\":\"korea\"\n",
    "})"
   ]
  },
  {
   "cell_type": "code",
   "execution_count": 4,
   "metadata": {},
   "outputs": [
    {
     "name": "stdout",
     "output_type": "stream",
     "text": [
      "\n",
      "        I know this:\n",
      "        Capital: Bangkok\n",
      "        Language: Thai\n",
      "        Food: Pad Thai and Tom Yum\n",
      "        Currency: Thai Baht\n",
      "        "
     ]
    },
    {
     "data": {
      "text/plain": [
       "AIMessageChunk(content='\\n        I know this:\\n        Capital: Bangkok\\n        Language: Thai\\n        Food: Pad Thai and Tom Yum\\n        Currency: Thai Baht\\n        ')"
      ]
     },
     "execution_count": 4,
     "metadata": {},
     "output_type": "execute_result"
    }
   ],
   "source": [
    "# 채팅 봇을 위한 fewShotPromptTemplate\n",
    "from langchain.chat_models import ChatOpenAI\n",
    "from langchain.callbacks import StreamingStdOutCallbackHandler\n",
    "\n",
    "# FewShotChatMessagePromptTemplate\n",
    "from langchain.prompts import ChatPromptTemplate\n",
    "from langchain.prompts.few_shot import FewShotChatMessagePromptTemplate\n",
    "\n",
    "chat = ChatOpenAI(\n",
    "    temperature=0.1,\n",
    "    streaming=True,\n",
    "    callbacks=[\n",
    "        StreamingStdOutCallbackHandler(),\n",
    "    ],\n",
    ")\n",
    "\n",
    "# 예제를 형식화 하는 방법\n",
    "# 예제들\n",
    "examples = [\n",
    "    {\n",
    "        \"country\": \"France\",\n",
    "        \"answer\": \"\"\"\n",
    "        Here is what I know:\n",
    "        Capital: Paris\n",
    "        Language: French\n",
    "        Food: Wine and Cheese\n",
    "        Currency: Euro\n",
    "        \"\"\",\n",
    "    },\n",
    "    {\n",
    "        \"country\": \"Italy\",\n",
    "        \"answer\": \"\"\"\n",
    "        I know this:\n",
    "        Capital: Rome\n",
    "        Language: Italian\n",
    "        Food: Pizza and Pasta\n",
    "        Currency: Euro\n",
    "        \"\"\",\n",
    "    },\n",
    "    {\n",
    "        \"country\": \"Greece\",\n",
    "        \"answer\": \"\"\"\n",
    "        I know this:\n",
    "        Capital: Athens\n",
    "        Language: Greek\n",
    "        Food: Souvlaki and Feta Cheese\n",
    "        Currency: Euro\n",
    "        \"\"\",\n",
    "    },\n",
    "]\n",
    "\n",
    "example_prompt = ChatPromptTemplate.from_messages(\n",
    "    [\n",
    "        (\"human\", \"What do you know about {country}?\"),\n",
    "        (\"ai\", \"{answer}\"),\n",
    "    ]\n",
    ")\n",
    "\n",
    "# 1. 먼저 우리는 example_prompt 를 만들었고, \n",
    "# 우리가 지금까지 했던 건 example 목록에 있는 각 예제의 형식을 지정해 주는 것. \n",
    "# ChatPromptTemplate를 사용해서 형식을 지정\n",
    "\n",
    "\n",
    "example_prompt = FewShotChatMessagePromptTemplate(\n",
    "    example_prompt=example_prompt,\n",
    "    examples=examples,\n",
    ")\n",
    "\n",
    "final_prompt = ChatPromptTemplate.from_messages(\n",
    "    [\n",
    "        (\"system\", \"you are a geography expert. you give short answer.\"),\n",
    "        example_prompt,\n",
    "        (\"human\", \"What do you know about {country}?\"),\n",
    "    ]\n",
    ")\n",
    "\n",
    "chain = final_prompt | chat\n",
    "\n",
    "# chain.invoke({\"country\": \"south korea\"})\n",
    "chain.invoke({\"country\": \"Thailand\"})"
   ]
  },
  {
   "cell_type": "markdown",
   "metadata": {},
   "source": [
    "위에서 볼 수 있듯이 examples과 FewShotChatMessagePromptTemplate 를 사용하는 것은 정말 쉽다.  \n",
    "우리가 답변을 형식화 한 방법은 FewShotChatMessagePromptTemplate를 써서 example_prompt 로 final_prompt의 예제 부분에 넣어준 것 뿐.  \n",
    "\n",
    "```python\n",
    "final_prompt = ChatPromptTemplate.from_messages(\n",
    "    [\n",
    "        (\"system\", \"you are a geography expert. you give short answer.\"),\n",
    "        example_prompt,\n",
    "        (\"human\", \"What do you know about {country}?\"),\n",
    "    ]\n",
    ")\n",
    "```\n",
    "나머지는 랭체인이 다 알아서 했다.  \n",
    "랭체인이 예제를 가지고 알아서 채팅 메세지처럼 형식화를 한 것.  \n",
    "\n",
    "example_prompt는 예제를 형식화하기 위한 거라는 걸 기억하자!\n",
    "\n"
   ]
  },
  {
   "cell_type": "code",
   "execution_count": null,
   "metadata": {},
   "outputs": [],
   "source": []
  }
 ],
 "metadata": {
  "kernelspec": {
   "display_name": "env",
   "language": "python",
   "name": "python3"
  },
  "language_info": {
   "codemirror_mode": {
    "name": "ipython",
    "version": 3
   },
   "file_extension": ".py",
   "mimetype": "text/x-python",
   "name": "python",
   "nbconvert_exporter": "python",
   "pygments_lexer": "ipython3",
   "version": "3.11.5"
  }
 },
 "nbformat": 4,
 "nbformat_minor": 2
}
