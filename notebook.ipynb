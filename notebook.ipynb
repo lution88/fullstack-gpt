{
 "cells": [
  {
   "cell_type": "code",
   "execution_count": 3,
   "metadata": {},
   "outputs": [],
   "source": [
    "from langchain.chat_models import ChatOpenAI\n",
    "from langchain.callbacks import StreamingStdOutCallbackHandler\n",
    "\n",
    "from langchain.prompts.pipeline import PipelinePromptTemplate\n",
    "\n",
    "from langchain.prompts.few_shot import FewShotChatMessagePromptTemplate\n",
    "from langchain.prompts import ChatPromptTemplate, PromptTemplate\n",
    "\n",
    "# PipelinePromptTemplate: 많은 prompt들을 하나로 합칠 수 있도록 해준다.\n",
    "\n",
    "chat = ChatOpenAI(\n",
    "    temperature=0.1,\n",
    "    streaming=True,\n",
    "    callbacks=[\n",
    "        StreamingStdOutCallbackHandler(),\n",
    "    ],\n",
    ")\n"
   ]
  },
  {
   "cell_type": "code",
   "execution_count": 4,
   "metadata": {},
   "outputs": [
    {
     "name": "stdout",
     "output_type": "stream",
     "text": [
      "I know this:\n",
      "        감독: 존 파브로\n",
      "        주요 출연진: 로버트 다우니 주니어, 기네스 팰트로, 제프 브리지스\n",
      "        흥행 수익: 5.85억 달러\n",
      "        영화의 장르: 슈퍼히어로\n",
      "        간단한 시놉시스: 천재 발명가이자 무기 제조업체인 토니 스타크는 아프가니스탄에서 납치되어 무기를 만들도록 강요당한다. 그러나 그는 자신을 위한 강력한 갑옷을 만들어 탈출하고, 이를 계기로 아이언맨으로 변신하여 세상을 구하는 히어로로 거듭난다."
     ]
    },
    {
     "data": {
      "text/plain": [
       "AIMessageChunk(content='I know this:\\n        감독: 존 파브로\\n        주요 출연진: 로버트 다우니 주니어, 기네스 팰트로, 제프 브리지스\\n        흥행 수익: 5.85억 달러\\n        영화의 장르: 슈퍼히어로\\n        간단한 시놉시스: 천재 발명가이자 무기 제조업체인 토니 스타크는 아프가니스탄에서 납치되어 무기를 만들도록 강요당한다. 그러나 그는 자신을 위한 강력한 갑옷을 만들어 탈출하고, 이를 계기로 아이언맨으로 변신하여 세상을 구하는 히어로로 거듭난다.')"
      ]
     },
     "execution_count": 4,
     "metadata": {},
     "output_type": "execute_result"
    }
   ],
   "source": [
    "examples = [\n",
    "    {\n",
    "        \"movie\": \"어벤져스\",\n",
    "        \"answer\": \"\"\"\n",
    "        I know this:\n",
    "        감독: 조스 웨던\n",
    "        주요 출연진: 로버트 다우니 주니어, 크리스 에반스, 마크 러팔로, 크리스 햄스워스, 스칼렛 요한슨\n",
    "        흥행 수익: 15.19억 달러\n",
    "        영화의 장르: 슈퍼히어로\n",
    "        간단한 시놉시스: ASSEMBLE! 최강의 슈퍼히어로들이 모였다!지구의 운명을 건 거대한 전쟁이 시작된다!지구의 안보가 위협당하는 위기의 상황에서 슈퍼히어로들을 불러모아 세상을 구하는, 일명 [어벤져스] 작전. 에너지원 ‘큐브’를 이용한 적의 등장으로 인류가 위험에 처하자 국제평화유지기구인 쉴드 (S.H.I.E.L.D)의 국장 닉 퓨리(사무엘 L.잭슨)는 [어벤져스] 작전을 위해 전 세계에 흩어져 있던 슈퍼히어로들을 찾아나선다. 아이언맨(로버트 다우니 주니어)부터 토르(크리스 헴스워스), 헐크(마크 러팔로), 캡틴 아메리카(크리스 에반스)는 물론, 쉴드의 요원인 블랙 위도우(스칼렛 요한슨), 호크 아이(제러미 레너)까지, 최고의 슈퍼히어로들이 [어벤져스]의 멤버로 모이게 되지만, 각기 개성이 강한 이들의 만남은 예상치 못한 방향으로 흘러가는데… 지구의 운명을 건 거대한 전쟁 앞에 [어벤져스] 작전은 성공할 수 있을까?\n",
    "        \"\"\",\n",
    "    },\n",
    "    {\n",
    "        \"movie\": \"다크나이트\",\n",
    "        \"answer\": \"\"\"\n",
    "        I know this:\n",
    "        감독: 크리스토퍼 놀란\n",
    "        주요 출연진: 크리스찬 베일, 마이클 케인, 게리 올드만, 앤 해서웨이\n",
    "        흥행 수익: 10.84억 달러\n",
    "        영화의 장르: 슈퍼히어로\n",
    "        간단한 시놉시스: 배트맨’ vs. ‘베인’, 운명을 건 최후의 전투\n",
    "        다크 나이트 신화의 전설이 끝난다\n",
    "        배트맨이 조커와의 대결을 끝으로 세상에서 모습을 감춘 8년 후,\n",
    "        평화가 지속되던 고담시의 파멸을 예고하며 최강의 적 베인이 등장한다.\n",
    "        자신을 거부한 사람들의 고통을 지켜볼 것인가, 정의의 수호자로 나설 것인가.\n",
    "        배트맨은 승패를 알 수 없는 마지막 전투를 시작하려 하는데…\n",
    "        \"\"\",\n",
    "    },\n",
    "    {\n",
    "        \"movie\": \"스타워즈 1\",\n",
    "        \"answer\": \"\"\"\n",
    "        I know this:\n",
    "        감독: 조지 루카스\n",
    "        주요 출연진: 리암 니슨, 이완 맥그리거, 나탈리 포트만, 제이크 로이드\n",
    "        흥행 수익: 10.27억 달러\n",
    "        영화의 장르: SF\n",
    "        간단한 시놉시스: 은하계 외곽을 연결하는 무역 루트의 세금 문제로 은하 공화국이 분쟁에 휩싸이게 된다.\n",
    "        무역 루트를 독점하려는 무역연합의 누트 건레이 총독이 전함을 동원, 나부 행성의 무역루트를 막아버린 것이다.\n",
    "        공화국 의회에서 이 심상치 않은 일련의 사건이 논의되는 동안 은하 의회의 발로럼 최고 의장은 비밀리에 은하계의 평화와 정의를 수호하는 제다이 기사 두 명을, 분쟁 해결을 위해 급파하는데....\n",
    "        \"\"\",\n",
    "    },\n",
    "]\n",
    "\n",
    "example_prompt = ChatPromptTemplate.from_messages([\n",
    "    (\"human\", \"What do you know about {movie}\"),\n",
    "    (\"ai\", \"{answer}\"),\n",
    "])\n",
    "\n",
    "example_prompt = FewShotChatMessagePromptTemplate(\n",
    "    example_prompt=example_prompt,\n",
    "    examples=examples,\n",
    ")\n",
    "\n",
    "final_prompt = ChatPromptTemplate.from_messages([\n",
    "    (\"system\", \"You are a movie expert. you give short answer\"),\n",
    "    example_prompt,\n",
    "    (\"human\", \"What do you know about {movie}\"),\n",
    "])\n",
    "\n",
    "chain = final_prompt | chat\n",
    "\n",
    "chain.invoke({\"movie\": \"아이언맨\"})"
   ]
  },
  {
   "cell_type": "code",
   "execution_count": null,
   "metadata": {},
   "outputs": [],
   "source": []
  }
 ],
 "metadata": {
  "kernelspec": {
   "display_name": "env",
   "language": "python",
   "name": "python3"
  },
  "language_info": {
   "codemirror_mode": {
    "name": "ipython",
    "version": 3
   },
   "file_extension": ".py",
   "mimetype": "text/x-python",
   "name": "python",
   "nbconvert_exporter": "python",
   "pygments_lexer": "ipython3",
   "version": "3.10.4"
  }
 },
 "nbformat": 4,
 "nbformat_minor": 2
}
