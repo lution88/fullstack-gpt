{
 "cells": [
  {
   "cell_type": "markdown",
   "metadata": {},
   "source": [
    "url 얻기"
   ]
  },
  {
   "cell_type": "code",
   "execution_count": null,
   "metadata": {},
   "outputs": [],
   "source": [
    "\n",
    "# menus = soup.find(\"ul\", attrs={\"class\": \"order_list_area\"}).find_all(\"li\")\n",
    "\n",
    "# for menu in menus:\n",
    "#     title = menu.find(\"div\", class_=\"tit\").text\n",
    "#     price = menu.find(\"div\", class_=\"price\").text\n",
    "#     print(title, price, \"\\n\")"
   ]
  },
  {
   "cell_type": "code",
   "execution_count": 114,
   "metadata": {},
   "outputs": [
    {
     "name": "stdout",
     "output_type": "stream",
     "text": [
      "그린라이트샐러드(1인분)인기 5,300원\n",
      "샐럽 샐러드 7,300원\n",
      "요구마 샐러드 8,800원\n",
      "요호박 샐러드 8,800원\n",
      "그릴 참깨두부 샐러드 8,800원\n",
      "고단백닭가슴살 샐러드 9,500원\n",
      "허니머스타드게살 샐러드 9,500원\n",
      "[저탄 다이어트1] 이탈리안메밀면/파스타 샐러드N 9,800원\n",
      "[저탄 다이어트2] 비빔메밀면/파스타 샐러드N 9,800원\n",
      "[저탄 다이어트3] 토마토메밀면/파스타샐러드N 9,800원\n",
      "아보카도 샐러드 10,500원\n",
      "그릴베이컨버섯 샐러드 10,500원\n",
      "훈제오리 샐러드 11,800원\n",
      "리코타칠리새우 샐러드 12,500원\n",
      "단호박칠리새우 샐러드 12,500원\n",
      "100%한돈 떡갈비 샐러드 12,800원\n",
      "잠봉뵈르 샐러드 12,800원\n"
     ]
    }
   ],
   "source": [
    "import requests\n",
    "from bs4 import BeautifulSoup\n",
    "\n",
    "# url = \"https://m.place.naver.com/restaurant/1296757432/home\"\n",
    "url = \"https://m.booking.naver.com/order/bizes/1041729/items/5516885?theme=place&refererCode=menutab&lang=ko&area=ple\"\n",
    "\n",
    "res = requests.get(url)\n",
    "\n",
    "soup = BeautifulSoup(res.content, \"html.parser\")\n",
    "all_menus = soup.find_all(\"div\", attrs={\"class\": \"order_list_wrap store_delivery\"})\n",
    "salads = all_menus[2:3]\n",
    "\n",
    "for salad in salads:\n",
    "    titles = salad.find_all(\"div\", class_=\"tit\")\n",
    "    prices = salad.find_all(\"div\", class_=\"price\")\n",
    "# print(titles)\n",
    "for title, price in zip(titles, prices):\n",
    "    print(title.text, price.text)"
   ]
  }
 ],
 "metadata": {
  "kernelspec": {
   "display_name": "env",
   "language": "python",
   "name": "python3"
  },
  "language_info": {
   "codemirror_mode": {
    "name": "ipython",
    "version": 3
   },
   "file_extension": ".py",
   "mimetype": "text/x-python",
   "name": "python",
   "nbconvert_exporter": "python",
   "pygments_lexer": "ipython3",
   "version": "3.10.4"
  }
 },
 "nbformat": 4,
 "nbformat_minor": 2
}
