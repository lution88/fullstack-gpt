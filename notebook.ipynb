{
 "cells": [
  {
   "cell_type": "code",
   "execution_count": null,
   "metadata": {},
   "outputs": [
    {
     "name": "stdout",
     "output_type": "stream",
     "text": [
      "\n",
      "AI: 🦾💥🔴"
     ]
    },
    {
     "data": {
      "text/plain": [
       "AIMessageChunk(content='\\nAI: 🦾💥🔴')"
      ]
     },
     "execution_count": 17,
     "metadata": {},
     "output_type": "execute_result"
    }
   ],
   "source": [
    "from langchain.chat_models import ChatOpenAI\n",
    "from langchain.callbacks import StreamingStdOutCallbackHandler\n",
    "from langchain.prompts.few_shot import FewShotPromptTemplate\n",
    "from langchain.prompts import PromptTemplate, MessagesPlaceholder\n",
    "\n",
    "\n",
    "chat = ChatOpenAI(\n",
    "    temperature=0.1,\n",
    "    streaming=True,\n",
    "    callbacks=[StreamingStdOutCallbackHandler()],\n",
    ")\n",
    "# 예제 리스트\n",
    "examples = [\n",
    "    {\"movie\": \"Describe 탑건 with 3 emoticons \", \"answer\": \"🛩️👨‍✈️🔥\"},\n",
    "    {\"movie\": \"Describe 대부 with 3 emoticons \", \"answer\": \"👨‍👨‍👦🔫🍝\"},\n",
    "]\n",
    "# 예제의 형식 지정\n",
    "example_template = \"\"\"\n",
    "    Human: {movie}\n",
    "    AI: {answer}\n",
    "\"\"\"\n",
    "\n",
    "example_prompt = PromptTemplate.from_template(example_template)\n",
    "\n",
    "# 실제 prompt\n",
    "prompt = FewShotPromptTemplate(\n",
    "    example_prompt=example_prompt,\n",
    "    examples=examples,\n",
    "    suffix=\"Describe {movie} with emoticons\",\n",
    "    input_variables=[\"movie\"],\n",
    ")\n",
    "\n",
    "prompt.format(movie=\"아이언맨\")\n",
    "\n",
    "chain = prompt | chat\n",
    "\n",
    "chain.invoke({\"movie\": \"ironman\"})"
   ]
  },
  {
   "cell_type": "markdown",
   "metadata": {},
   "source": [
    "과제!"
   ]
  },
  {
   "cell_type": "code",
   "execution_count": 23,
   "metadata": {},
   "outputs": [
    {
     "data": {
      "text/plain": [
       "{'movie': 'iron man',\n",
       " 'chat_history': [HumanMessage(content='iron man'),\n",
       "  AIMessage(content='🦸\\u200d♂️💥🔧')],\n",
       " 'text': '🦸\\u200d♂️💥🔧'}"
      ]
     },
     "execution_count": 23,
     "metadata": {},
     "output_type": "execute_result"
    }
   ],
   "source": [
    "from langchain.memory import ConversationSummaryBufferMemory\n",
    "from langchain.chat_models import ChatOpenAI\n",
    "from langchain.chains import LLMChain\n",
    "from langchain.prompts import ChatPromptTemplate, MessagesPlaceholder\n",
    "from langchain.prompts.few_shot import FewShotChatMessagePromptTemplate\n",
    "\n",
    "# 예제 리스트\n",
    "examples = [\n",
    "    {\"movie\": \"탑건\", \"answer\": \"🛩️👨‍✈️🔥\"},\n",
    "    {\"movie\": \"대부\", \"answer\": \"👨‍👨‍👦🔫🍝\"},\n",
    "]\n",
    "\n",
    "# 예제의 형식 지정\n",
    "example_template = \"\"\"\n",
    "    Human: Describe {movie} with 3 emoticons\n",
    "    AI: {answer}\n",
    "\"\"\"\n",
    "example_prompt = ChatPromptTemplate.from_template(example_template)\n",
    "\n",
    "# 실제 prompt\n",
    "few_shot_prompt = FewShotChatMessagePromptTemplate(\n",
    "    example_prompt=example_prompt,\n",
    "    examples=examples,\n",
    ")\n",
    "\n",
    "prompt = ChatPromptTemplate.from_messages([\n",
    "    (\"system\", \"You are world-class emoticon maker for movie. Describe movie with 3 emoticons\"),\n",
    "    few_shot_prompt,\n",
    "    MessagesPlaceholder(variable_name=\"chat_history\"),\n",
    "    (\"human\", \"Describe {movie} with 3 emoticons\"),\n",
    "]) \n",
    "\n",
    "llm = ChatOpenAI(temperature=0.1)\n",
    "\n",
    "memory = ConversationSummaryBufferMemory(\n",
    "    llm=llm,\n",
    "    max_token_limit=80,\n",
    "    memory_key=\"chat_history\",\n",
    "    return_messages=True,\n",
    ")\n",
    "# chain\n",
    "chain = LLMChain(\n",
    "    llm=llm,\n",
    "    prompt=prompt,\n",
    "    memory=memory,\n",
    "    verbose=False,\n",
    ")\n",
    "\n",
    "chain.invoke({\"movie\": \"iron man\"})"
   ]
  },
  {
   "cell_type": "code",
   "execution_count": 24,
   "metadata": {},
   "outputs": [
    {
     "data": {
      "text/plain": [
       "{'movie': 'spider-man',\n",
       " 'chat_history': [HumanMessage(content='iron man'),\n",
       "  AIMessage(content='🦸\\u200d♂️💥🔧'),\n",
       "  HumanMessage(content='spider-man'),\n",
       "  AIMessage(content='🕷️🕸️🦸\\u200d♂️')],\n",
       " 'text': '🕷️🕸️🦸\\u200d♂️'}"
      ]
     },
     "execution_count": 24,
     "metadata": {},
     "output_type": "execute_result"
    }
   ],
   "source": [
    "chain.invoke({\"movie\": \"spider-man\"})"
   ]
  },
  {
   "cell_type": "code",
   "execution_count": null,
   "metadata": {},
   "outputs": [],
   "source": [
    "memory_prompt = ChatPromptTemplate.from_messages([\n",
    "    \n",
    "])"
   ]
  }
 ],
 "metadata": {
  "kernelspec": {
   "display_name": "env",
   "language": "python",
   "name": "python3"
  },
  "language_info": {
   "codemirror_mode": {
    "name": "ipython",
    "version": 3
   },
   "file_extension": ".py",
   "mimetype": "text/x-python",
   "name": "python",
   "nbconvert_exporter": "python",
   "pygments_lexer": "ipython3",
   "version": "3.10.4"
  }
 },
 "nbformat": 4,
 "nbformat_minor": 2
}
