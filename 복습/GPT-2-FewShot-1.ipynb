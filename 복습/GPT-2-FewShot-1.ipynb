{
 "cells": [
  {
   "cell_type": "markdown",
   "metadata": {},
   "source": [
    "랭체인을 위한 모듈: \n",
    "\n",
    "랭체인에는 많은 모듈들이 있다.\n",
    "\n",
    "모델 IO - 모듈에는 입력input과 출력output이 있다.\n",
    "입력은 prompt(명령을 내리는 곳)이다.\n",
    "따라서 모델 IO에는 prompt template, 언어 모델, LMS 또는 채팅 모델, output parser 등이 있다.\n",
    "\n",
    "Retrieval - 외부 데이터로 접근하여 이를 모델에 어떻게 제공하는 것에 관한 것.  \n",
    "document loaders, transformers, text embedding, vector stores와 retrievers 등이 있다.  \n",
    "이것들 전부 우리의 데이터들로 작업하게 하고 모델에게 제공할 수 있는지에 관한 것이다.  \n",
    "\n",
    "Chains - \n",
    "\n",
    "Agents - 독립적으로 AI가 작동하도록 만들수 있게 해주는 것.\n",
    "chains이 필요한 도구들을 선택하여 사용할 수 있도록!  \n",
    "일을 chains에 시키고 그에 맞는 커스텀 도구를 만들어 준다면 chains 스스로 사용할 tool들을 선택한다는 것이다.  \n",
    "\n",
    "Memory - 챗봇에 memory(기억)할 수 있도록 하는 것.\n",
    "\n",
    "callbacks - model이 무엇을 하고 있는지 중간에 알 수 있도록 하는 것.  \n",
    "모델이 답변을 제공하기 전에 실제로 어떤 일을 하고 있는 지 확인할 수 있다.\n",
    "\n",
    "다음 모듈들 중 모델 IO에 대해서 알아보자.  \n",
    "model I/O 이 편해져야 하고 특징들도 알아봐야 하고 다른 종류의 메모리에 대해서도 알아야 한다.   "
   ]
  },
  {
   "cell_type": "markdown",
   "metadata": {},
   "source": [
    "먼저 FewShotPromptTemplate 에 대해서 알아보자"
   ]
  },
  {
   "cell_type": "code",
   "execution_count": null,
   "metadata": {},
   "outputs": [
    {
     "data": {
      "text/plain": [
       "'What is the capital of France'"
      ]
     },
     "metadata": {},
     "output_type": "display_data"
    }
   ],
   "source": [
    "from langchain.chat_models import ChatOpenAI\n",
    "from langchain.prompts import PromptTemplate\n",
    "from langchain.callbacks import StreamingStdOutCallbackHandler\n",
    "# FewShotPromptTemplate\n",
    "from langchain.prompts.few_shot import FewShotPromptTemplate\n",
    "\n",
    "chat = ChatOpenAI(\n",
    "    temperature=0.1,\n",
    "    streaming=True,\n",
    "    callbacks=[StreamingStdOutCallbackHandler()],\n",
    ")\n",
    "\n",
    "# 일반적인 template 만들기 - template 를 만들면 유효성 검사를 할 수 있어서 좋다.\n",
    "template = PromptTemplate.from_template(\"What is the capital of {country}\")\n",
    "template.format(country=\"France\")"
   ]
  },
  {
   "cell_type": "markdown",
   "metadata": {},
   "source": [
    "template를 사용하는 이유는 유효성 검사를 할 수 있기 때문이다.  \n",
    "그리고 다른 하나는 prompt template를 디스크에 저장하고 load 할 수 있기 때문이다.  \n",
    "\n",
    "규모가 큰 language model을 만들기 시작할 때 prompt는 정말 중요하다.  \n",
    "데이터베이스나 파일 등에서 prompt를 로드해야 할 일도 생길 수 있다.  \n",
    "\n",
    "위에서 작성했던 PromptTemplate.from_template(\"What is the capital of {country}\") 는 마치 단축키와 같다.  \n",
    "그래서 이런 식으로 하지 않으면 어떤 식으로 해야하는지 한번 살펴보자.  \n",
    "\n",
    "먼저 PromptTemplate에 template를 전달해준다.  \n",
    "그런 다음 입력 변수(input variables)들을 전달해준다.  \n",
    "\n"
   ]
  },
  {
   "cell_type": "code",
   "execution_count": null,
   "metadata": {},
   "outputs": [
    {
     "data": {
      "text/plain": [
       "'What is the capital of France'"
      ]
     },
     "metadata": {},
     "output_type": "display_data"
    }
   ],
   "source": [
    "template = PromptTemplate(\n",
    "    template=\"What is the capital of {country}\",\n",
    "    input_variables=[\"country\"],\n",
    "    \n",
    ")\n",
    "template.format(country=\"France\")"
   ]
  },
  {
   "cell_type": "markdown",
   "metadata": {},
   "source": [
    "위 방법이나 아래 방법이나 결과는 똑같지만 위 방법이 훨씬 더 좋다.  \n",
    "이런식으로 하면 자동으로 랭체인이 어떤 변수가 우리에게 필요한 지 알아서 계산해서 유효성 검사를 진행한다.\n",
    "\n",
    "---\n",
    "이제 FewShotPromptTemplate와 FewShot Learning이 무엇인지 알아보자.  \n",
    "기본적으로 FewShot은 모델에게 예제들을 준다는 뜻과 같다.  \n",
    "더 나은 대답을 할 수 있도록 하는 예제들을 제공해 준다는 것.  \n",
    "\n",
    "만약 구체적으로 대답하는 AI 모델이 필요하다가 가정해보면   \n",
    "모델에게 어떻게 대답해야 하는지에 대한 예제를 AI 모델에게 주는 것이   \n",
    "prompt를 사용해서 어떻게 대답해야 하는지 알려주느 것보다 훨씬 좋다.  (일일이 써서 보여주는 것보다 예제를 보여줘라!)\n",
    "\n",
    "이것이 fewShotPromptTemplate가 하는 일이다.\n",
    "\n",
    "\n"
   ]
  },
  {
   "cell_type": "markdown",
   "metadata": {},
   "source": [
    "먼저 예제들을 리스트로 만들어보자"
   ]
  },
  {
   "cell_type": "code",
   "execution_count": null,
   "metadata": {},
   "outputs": [],
   "source": [
    "examples = [\n",
    "    {\n",
    "        \"question\":\"what do you know about Greece?\",\n",
    "        \"answer\":\"\"\"\n",
    "        I know this: \n",
    "        Capital: Athens\n",
    "        Language: Greek\n",
    "        Food: Souvlaki and Feta Cheese\n",
    "        Currency: Euro\n",
    "        \"\"\",\n",
    "    },\n",
    "    {\n",
    "        \"question\":\"what do you know about Italy?\",\n",
    "        \"answer\":\"\"\"\n",
    "        I know this:\n",
    "        Capital: Rome\n",
    "        Language: Italian\n",
    "        Food: Pizza and Pasta\n",
    "        Currency: Euro\n",
    "        \"\"\",\n",
    "    },\n",
    "    {\n",
    "        \"question\":\"what do you know about south korea?\",\n",
    "        \"answer\":\"\"\"\n",
    "        I know this:\n",
    "        Capital: Seoul\n",
    "        Language: Korean\n",
    "        Food: Kimchi and Galbi\n",
    "        Currency: won\n",
    "        \"\"\",\n",
    "    },\n",
    "]"
   ]
  },
  {
   "cell_type": "markdown",
   "metadata": {},
   "source": [
    "위 예제들은 기본적으로 모델이 나에게 이런 식으로 답변해줬으면 좋겠다 하는 예제들이다.\n",
    "\n",
    "만약 예제를 주지 않고 LLM 에게 물어본다면?"
   ]
  },
  {
   "cell_type": "code",
   "execution_count": null,
   "metadata": {},
   "outputs": [
    {
     "name": "stdout",
     "output_type": "stream",
     "text": [
      "Greece is a country located in southeastern Europe, known for its rich history, ancient civilization, and stunning landscapes. It is considered the cradle of Western civilization, as it was the birthplace of democracy, philosophy, and the Olympic Games.\n",
      "\n",
      "Greece is famous for its ancient ruins, including the Acropolis in Athens, the Temple of Apollo in Delphi, and the Palace of Knossos in Crete. The country is also known for its beautiful islands, such as Santorini, Mykonos, and Rhodes, which attract millions of tourists each year.\n",
      "\n",
      "Greek cuisine is also popular worldwide, with dishes like moussaka, souvlaki, and baklava being enjoyed by people all over the world. The country is also known for its vibrant culture, including traditional music, dance, and festivals.\n",
      "\n",
      "Greece has faced economic challenges in recent years, but it remains a popular destination for travelers seeking history, culture, and natural beauty."
     ]
    },
    {
     "data": {
      "text/plain": [
       "'Greece is a country located in southeastern Europe, known for its rich history, ancient civilization, and stunning landscapes. It is considered the cradle of Western civilization, as it was the birthplace of democracy, philosophy, and the Olympic Games.\\n\\nGreece is famous for its ancient ruins, including the Acropolis in Athens, the Temple of Apollo in Delphi, and the Palace of Knossos in Crete. The country is also known for its beautiful islands, such as Santorini, Mykonos, and Rhodes, which attract millions of tourists each year.\\n\\nGreek cuisine is also popular worldwide, with dishes like moussaka, souvlaki, and baklava being enjoyed by people all over the world. The country is also known for its vibrant culture, including traditional music, dance, and festivals.\\n\\nGreece has faced economic challenges in recent years, but it remains a popular destination for travelers seeking history, culture, and natural beauty.'"
      ]
     },
     "metadata": {},
     "output_type": "display_data"
    }
   ],
   "source": [
    "chat.predict(\"what do you know about Greece?\")"
   ]
  },
  {
   "cell_type": "markdown",
   "metadata": {},
   "source": [
    "다음은 FewShotPromptTemplate를 사용해서 만들어 보자.\n",
    "\n",
    "\n",
    "첫 번째 단계는 예제의 형식을 지정하는 것이다.  \n",
    "형식화 하려면 형식 지정 도구를 만들어야 한다.  \n",
    "위 예제는 여기에 작성했지만(examples) 데이터베이스 등 다른곳에서 가져올 수도 있거나 할 수 있기 때문에 예제의 형식을 지정해야 한다.\n",
    "\n",
    "우리는 human에는 질문{question}을 넣어주고 AI에는 답변{answer}을 넣어주는 형식을 만들어 보자.\n"
   ]
  },
  {
   "cell_type": "code",
   "execution_count": null,
   "metadata": {},
   "outputs": [],
   "source": [
    "# 예제의 형식을 지정하는 방법\n",
    "example_template = \"\"\"\n",
    "    Human: {question}\n",
    "    AI: {answer}\n",
    "\"\"\"\n"
   ]
  },
  {
   "cell_type": "code",
   "execution_count": null,
   "metadata": {},
   "outputs": [],
   "source": [
    "example_prompt = PromptTemplate.from_template(example_template)"
   ]
  },
  {
   "cell_type": "markdown",
   "metadata": {},
   "source": [
    "또는"
   ]
  },
  {
   "cell_type": "code",
   "execution_count": null,
   "metadata": {},
   "outputs": [],
   "source": [
    "example_prompt = PromptTemplate.from_template(\"Human: {question}\\nAI: {answer}\")"
   ]
  },
  {
   "cell_type": "markdown",
   "metadata": {},
   "source": [
    "---\n",
    "이제 fewshotprompttemplate을 사용해서 실제 prompt를 만들어보자.\n",
    "\n",
    "examples 와 example_prompt 를 넘겨준다.  \n",
    "이렇게 하면 랭체인이 알아서 각각의 예제 리스트(examples)들을 이 prompt(example_prompt)를 사용하여 형식화 한다.\n",
    "\n",
    "다음으로는 사용자의 질문이 어떻게 보여줄지 지정하는 suffix 를 작성한다.  \n",
    "suffix는 형식화 된 모든 예제 마지막에 나오는 내용이다.  \n",
    "위에 나와있는 {question}과 동일한 형식을 사용한다.\n",
    "\n"
   ]
  },
  {
   "cell_type": "code",
   "execution_count": null,
   "metadata": {},
   "outputs": [],
   "source": [
    "prompt = FewShotPromptTemplate(\n",
    "    example_prompt=example_prompt,\n",
    "    examples=examples,\n",
    "    suffix=\"what do you know about {country}?\",\n",
    "    input_variables=[\"country\"]\n",
    ")"
   ]
  },
  {
   "cell_type": "code",
   "execution_count": null,
   "metadata": {},
   "outputs": [
    {
     "data": {
      "text/plain": [
       "'\\n    Human: what do you know about Greece?\\n    AI: \\n        I know this: \\n        Capital: Athens\\n        Language: Greek\\n        Food: Souvlaki and Feta Cheese\\n        Currency: Euro\\n        \\n\\n\\n\\n    Human: what do you know about Italy?\\n    AI: \\n        I know this:\\n        Capital: Rome\\n        Language: Italian\\n        Food: Pizza and Pasta\\n        Currency: Euro\\n        \\n\\n\\n\\n    Human: what do you know about south korea?\\n    AI: \\n        I know this:\\n        Capital: Seoul\\n        Language: Korean\\n        Food: Kimchi and Galbi\\n        Currency: won\\n        \\n\\n\\nwhat do you know about japan?'"
      ]
     },
     "metadata": {},
     "output_type": "display_data"
    }
   ],
   "source": [
    "prompt.format(country=\"japan\")"
   ]
  },
  {
   "cell_type": "markdown",
   "metadata": {},
   "source": [
    "what do you know about japan?\n",
    "\n",
    "위 내용은 언어 모델이 우리를 위해 딱 맞게 자동 완성시켜준 것이다.  \n",
    "\n",
    "우리는 예제리스트(examples)를 만들었고, fewShotPromptTemplate에 전달했다.  \n",
    "어떻게 전달한 예제들을 형식화 할지 알려주었고(example_prompt),  \n",
    "마지막에 질문을 포함시켰다(suffix).  \n",
    "그리고 유효성 검사를 받을 수 있도록, 템플릿에서 사용할 입력변수(input_variables)가 무엇인지 지정했다.\n",
    "\n",
    "AI는 우리의 예제들과 똑같은 구조, 형태로 답변하게 될 것이다.  \n",
    "\n",
    "이제 끝났으니 실제로 이것은 chains 안에 넣어보자.\n",
    "\n"
   ]
  },
  {
   "cell_type": "code",
   "execution_count": null,
   "metadata": {},
   "outputs": [
    {
     "name": "stdout",
     "output_type": "stream",
     "text": [
      "AI: \n",
      "        I know this:\n",
      "        Capital: Tokyo\n",
      "        Language: Japanese\n",
      "        Food: Sushi and Ramen\n",
      "        Currency: Yen"
     ]
    },
    {
     "data": {
      "text/plain": [
       "AIMessageChunk(content='AI: \\n        I know this:\\n        Capital: Tokyo\\n        Language: Japanese\\n        Food: Sushi and Ramen\\n        Currency: Yen')"
      ]
     },
     "metadata": {},
     "output_type": "display_data"
    }
   ],
   "source": [
    "chain = prompt | chat\n",
    "\n",
    "chain.invoke({\"country\":\"japan\"})"
   ]
  },
  {
   "cell_type": "code",
   "execution_count": null,
   "metadata": {},
   "outputs": [
    {
     "name": "stdout",
     "output_type": "stream",
     "text": [
      "AI: \n",
      "        I know this:\n",
      "        Capital: Berlin\n",
      "        Language: German\n",
      "        Food: Bratwurst and Sauerkraut\n",
      "        Currency: Euro"
     ]
    },
    {
     "data": {
      "text/plain": [
       "AIMessageChunk(content='AI: \\n        I know this:\\n        Capital: Berlin\\n        Language: German\\n        Food: Bratwurst and Sauerkraut\\n        Currency: Euro')"
      ]
     },
     "metadata": {},
     "output_type": "display_data"
    }
   ],
   "source": [
    "chain.invoke({\"country\":\"Germany\"})"
   ]
  },
  {
   "cell_type": "markdown",
   "metadata": {},
   "source": [
    "전체 코드 살펴보기"
   ]
  },
  {
   "cell_type": "code",
   "execution_count": 1,
   "metadata": {},
   "outputs": [
    {
     "ename": "NameError",
     "evalue": "name 'example_prompt' is not defined",
     "output_type": "error",
     "traceback": [
      "\u001b[0;31m---------------------------------------------------------------------------\u001b[0m",
      "\u001b[0;31mNameError\u001b[0m                                 Traceback (most recent call last)",
      "Cell \u001b[0;32mIn[1], line 55\u001b[0m\n\u001b[1;32m     48\u001b[0m \u001b[38;5;66;03m# 예제의 형식을 지정하는 방법\u001b[39;00m\n\u001b[1;32m     49\u001b[0m example_template \u001b[38;5;241m=\u001b[39m \u001b[38;5;124m\"\"\"\u001b[39m\n\u001b[1;32m     50\u001b[0m \u001b[38;5;124m    Human: \u001b[39m\u001b[38;5;132;01m{question}\u001b[39;00m\n\u001b[1;32m     51\u001b[0m \u001b[38;5;124m    AI: \u001b[39m\u001b[38;5;132;01m{answer}\u001b[39;00m\n\u001b[1;32m     52\u001b[0m \u001b[38;5;124m\"\"\"\u001b[39m\n\u001b[1;32m     54\u001b[0m prompt \u001b[38;5;241m=\u001b[39m FewShotPromptTemplate(\n\u001b[0;32m---> 55\u001b[0m     example_prompt\u001b[38;5;241m=\u001b[39m\u001b[43mexample_prompt\u001b[49m,\n\u001b[1;32m     56\u001b[0m     examples\u001b[38;5;241m=\u001b[39mexamples,\n\u001b[1;32m     57\u001b[0m     suffix\u001b[38;5;241m=\u001b[39m\u001b[38;5;124m\"\u001b[39m\u001b[38;5;124mwhat do you know about \u001b[39m\u001b[38;5;132;01m{country}\u001b[39;00m\u001b[38;5;124m?\u001b[39m\u001b[38;5;124m\"\u001b[39m,\n\u001b[1;32m     58\u001b[0m     input_variables\u001b[38;5;241m=\u001b[39m[\u001b[38;5;124m\"\u001b[39m\u001b[38;5;124mcountry\u001b[39m\u001b[38;5;124m\"\u001b[39m]\n\u001b[1;32m     59\u001b[0m )\n\u001b[1;32m     61\u001b[0m \u001b[38;5;66;03m# chain = prompt | chat\u001b[39;00m\n\u001b[1;32m     62\u001b[0m \n\u001b[1;32m     63\u001b[0m \u001b[38;5;66;03m# chain.invoke({\"country\":\"austraila\"})\u001b[39;00m\n",
      "\u001b[0;31mNameError\u001b[0m: name 'example_prompt' is not defined"
     ]
    }
   ],
   "source": [
    "from langchain.chat_models import ChatOpenAI\n",
    "# from langchain.prompts import PromptTemplate\n",
    "from langchain.callbacks import StreamingStdOutCallbackHandler\n",
    "# FewShotPromptTemplate\n",
    "from langchain.prompts.few_shot import FewShotPromptTemplate\n",
    "# Memory\n",
    "\n",
    "\n",
    "chat = ChatOpenAI(\n",
    "    temperature=0.1,\n",
    "    streaming=True,\n",
    "    callbacks=[StreamingStdOutCallbackHandler()],\n",
    ")\n",
    "\n",
    "examples = [\n",
    "    {\n",
    "        \"question\":\"what do you know about Greece?\",\n",
    "        \"answer\":\"\"\"\n",
    "        I know this: \n",
    "        Capital: Athens\n",
    "        Language: Greek\n",
    "        Food: Souvlaki and Feta Cheese\n",
    "        Currency: Euro\n",
    "        \"\"\",\n",
    "    },\n",
    "    {\n",
    "        \"question\":\"what do you know about Italy?\",\n",
    "        \"answer\":\"\"\"\n",
    "        I know this:\n",
    "        Capital: Rome\n",
    "        Language: Italian\n",
    "        Food: Pizza and Pasta\n",
    "        Currency: Euro\n",
    "        \"\"\",\n",
    "    },\n",
    "    {\n",
    "        \"question\":\"what do you know about south korea?\",\n",
    "        \"answer\":\"\"\"\n",
    "        I know this:\n",
    "        Capital: Seoul\n",
    "        Language: Korean\n",
    "        Food: Kimchi and Galbi\n",
    "        Currency: won\n",
    "        \"\"\",\n",
    "    },\n",
    "]\n",
    "\n",
    "# 예제의 형식을 지정하는 방법\n",
    "example_template = \"\"\"\n",
    "    Human: {question}\n",
    "    AI: {answer}\n",
    "\"\"\"\n",
    "\n",
    "prompt = FewShotPromptTemplate(\n",
    "    example_prompt=example_prompt,\n",
    "    examples=examples,\n",
    "    suffix=\"what do you know about {country}?\",\n",
    "    input_variables=[\"country\"]\n",
    ")\n",
    "\n",
    "# chain = prompt | chat\n",
    "\n",
    "# chain.invoke({\"country\":\"austraila\"})\n",
    "\n"
   ]
  },
  {
   "cell_type": "code",
   "execution_count": null,
   "metadata": {},
   "outputs": [],
   "source": []
  },
  {
   "cell_type": "markdown",
   "metadata": {},
   "source": [
    "약간 수정해보자.ㅠ\n",
    "\n",
    "먼 예제들을 수정해보자.\n",
    "\n",
    "먼저 example_promtp를 작성한다."
   ]
  },
  {
   "cell_type": "code",
   "execution_count": null,
   "metadata": {},
   "outputs": [],
   "source": [
    "from langchain.prompts.few_shot import FewShotChatMessagePromptTemplate\n",
    "from langchain.prompts import ChatPromptTemplate\n",
    "\n",
    "examples = [\n",
    "    {\n",
    "        \"country\":\"Greece\",\n",
    "        \"answer\":\"\"\"\n",
    "        I know this: \n",
    "        Capital: Athens\n",
    "        Language: Greek\n",
    "        Food: Souvlaki and Feta Cheese\n",
    "        Currency: Euro\n",
    "        \"\"\",\n",
    "    },\n",
    "    {\n",
    "        \"country\":\"Italy\",\n",
    "        \"answer\":\"\"\"\n",
    "        I know this:\n",
    "        Capital: Rome\n",
    "        Language: Italian\n",
    "        Food: Pizza and Pasta\n",
    "        Currency: Euro\n",
    "        \"\"\",\n",
    "    },\n",
    "    {\n",
    "        \"country\":\"korea\",\n",
    "        \"answer\":\"\"\"\n",
    "        I know this:\n",
    "        Capital: Seoul\n",
    "        Language: Korean\n",
    "        Food: Kimchi and Galbi\n",
    "        Currency: won\n",
    "        \"\"\",\n",
    "    },\n",
    "]\n",
    "\n",
    "# promptTemplate 대신 ChatPromptTemplate 을 사용\n",
    "# promptTempplate.from_template() 가 아닌 ChatPromptTemplate.from_messages()를 사용한다.\n",
    "# 지금 하고 있는 것은 어떻게 예제들을 형식화 할 것인가 이다.\n",
    "example_prompt = ChatPromptTemplate.from_messages([\n",
    "    # prompt template 안에 모든 질문이 포함되어 있다.\n",
    "    (\"human\", \"what do you know about {country}?\"),\n",
    "    (\"ai\", \"{answer}\")\n",
    "])\n",
    "\n"
   ]
  },
  {
   "cell_type": "markdown",
   "metadata": {},
   "source": [
    "우리가 지금까지 하고 있던 건 example 목록에 있는 각 예제의 형식을 지정해 주는 것이다.  \n",
    "\n",
    "ChatPromptTemplate를 사용하여 형식을 지정해줬다.\n",
    "\n",
    "human 이 \"이 나라에 대해 무엇을 알고 있어?\" 라고 묻는 거다.  \n",
    "AI는 \"너 이런 식으로 답변했어\" 같이 답변하게 만드려고 AI를 속이고 있다고 할 수 있다.  \n",
    "그러면 AI가 내가 이런식으로 답변했구나를 기억하면서 이런 식으로 말하려고 할 것이다.  "
   ]
  },
  {
   "cell_type": "code",
   "execution_count": null,
   "metadata": {},
   "outputs": [],
   "source": [
    "# FewShotChatMessagePromptTemplate 를 사용해보자.\n",
    "# 이건 suffix가 필요하지 않다.\n",
    "example_prompt = FewShotChatMessagePromptTemplate(\n",
    "    example_prompt=example_prompt,\n",
    "    examples=examples,\n",
    ")"
   ]
  },
  {
   "cell_type": "markdown",
   "metadata": {},
   "source": [
    "final_prompt 여기에서는 시스템 메세지를 이전의 예제들과 함께 넣어줬다.\n"
   ]
  },
  {
   "cell_type": "code",
   "execution_count": null,
   "metadata": {},
   "outputs": [],
   "source": [
    "\n",
    "# 마지막에 final_prompt 를 작성해주자.\n",
    "final_prompt = ChatPromptTemplate.from_messages([\n",
    "    (\"system\", \"You are a geography expert\"),\n",
    "    example_prompt,\n",
    "    (\"human\", \"what do you know about {country}?\")\n",
    "    \n",
    "])"
   ]
  },
  {
   "cell_type": "code",
   "execution_count": null,
   "metadata": {},
   "outputs": [
    {
     "name": "stdout",
     "output_type": "stream",
     "text": [
      "I know this:\n",
      "Capital: Berlin\n",
      "Language: German\n",
      "Food: Bratwurst and Sauerkraut\n",
      "Currency: Euro"
     ]
    },
    {
     "data": {
      "text/plain": [
       "AIMessageChunk(content='I know this:\\nCapital: Berlin\\nLanguage: German\\nFood: Bratwurst and Sauerkraut\\nCurrency: Euro')"
      ]
     },
     "metadata": {},
     "output_type": "display_data"
    }
   ],
   "source": [
    "chain = final_prompt | chat\n",
    "\n",
    "chain.invoke({\"country\": \"germany\"})"
   ]
  },
  {
   "cell_type": "markdown",
   "metadata": {},
   "source": [
    "---\n",
    "\n",
    "채팅 봇을 위한 fewShotPromptTemplate 에 대해서 알아보자\n",
    "왜냐하면 채팅의 특성상 상호작용 해야하는 예제들이 있기 때문."
   ]
  },
  {
   "cell_type": "markdown",
   "metadata": {},
   "source": [
    "FewShotChatMessagePromptTemplate 전체 코드 살펴보기"
   ]
  },
  {
   "cell_type": "code",
   "execution_count": null,
   "metadata": {},
   "outputs": [],
   "source": [
    "from langchain.prompts.few_shot import FewShotChatMessagePromptTemplate\n",
    "from langchain.prompts import ChatPromptTemplate\n",
    "from langchain.chat_models import ChatOpenAI\n",
    "from langchain.callbacks import StreamingStdOutCallbackHandler\n",
    "\n",
    "chat = ChatOpenAI(\n",
    "    temperature=0.1,\n",
    "    streaming=True,\n",
    "    callbacks=[StreamingStdOutCallbackHandler()],\n",
    ")\n",
    "\n",
    "examples = [\n",
    "    {\n",
    "        \"country\": \"Greece\",\n",
    "        \"answer\": \"\"\"\n",
    "        I know this: \n",
    "        Capital: Athens\n",
    "        Language: Greek\n",
    "        Food: Souvlaki and Feta Cheese\n",
    "        Currency: Euro\n",
    "        \"\"\",\n",
    "    },\n",
    "    {\n",
    "        \"country\": \"Italy\",\n",
    "        \"answer\": \"\"\"\n",
    "        I know this:\n",
    "        Capital: Rome\n",
    "        Language: Italian\n",
    "        Food: Pizza and Pasta\n",
    "        Currency: Euro\n",
    "        \"\"\",\n",
    "    },\n",
    "    {\n",
    "        \"country\": \"korea\",\n",
    "        \"answer\": \"\"\"\n",
    "        I know this:\n",
    "        Capital: Seoul\n",
    "        Language: Korean\n",
    "        Food: Kimchi and Galbi\n",
    "        Currency: won\n",
    "        \"\"\",\n",
    "    },\n",
    "]\n",
    "\n",
    "# promptTemplate 대신 ChatPromptTemplate 을 사용\n",
    "# promptTempplate.from_template() 가 아닌 ChatPromptTemplate.from_messages()를 사용한다.\n",
    "# 지금 하고 있는 것은 어떻게 예제들을 형식화 할 것인가 이다.\n",
    "\n",
    "# 예제 대화 형식 지정\n",
    "example_prompt = ChatPromptTemplate.from_messages(\n",
    "    [\n",
    "        # prompt template 안에 모든 질문이 포함되어 있다.\n",
    "        (\"human\", \"what do you know about {country}?\"),\n",
    "        (\"ai\", \"{answer}\"),\n",
    "    ]\n",
    ")\n",
    "\n",
    "\n",
    "# FewShotChatMessagePromptTemplate 를 사용해보자.\n",
    "# 이건 suffix가 필요하지 않다.\n",
    "\n",
    "# 여러 예제들을 하나의 프롬프트로 만듬\n",
    "example_prompt = FewShotChatMessagePromptTemplate(\n",
    "    example_prompt=example_prompt,\n",
    "    examples=examples,\n",
    ")\n",
    "\n",
    "\n",
    "# 마지막에 final_prompt 를 작성해주자.\n",
    "\n",
    "# 전체 프롬프트의 최종 구조를 정의한다.\n",
    "final_prompt = ChatPromptTemplate.from_messages(\n",
    "    [\n",
    "        (\"system\", \"You are a geography expert\"),\n",
    "        example_prompt,\n",
    "        (\"human\", \"what do you know about {country}?\"),\n",
    "    ]\n",
    ")\n",
    "\n",
    "chain = final_prompt | chat\n",
    "\n",
    "chain.invoke({\"country\": \"germany\"})"
   ]
  }
 ],
 "metadata": {
  "kernelspec": {
   "display_name": "env",
   "language": "python",
   "name": "python3"
  },
  "language_info": {
   "codemirror_mode": {
    "name": "ipython",
    "version": 3
   },
   "file_extension": ".py",
   "mimetype": "text/x-python",
   "name": "python",
   "nbconvert_exporter": "python",
   "pygments_lexer": "ipython3",
   "version": "3.11.5"
  }
 },
 "nbformat": 4,
 "nbformat_minor": 2
}
