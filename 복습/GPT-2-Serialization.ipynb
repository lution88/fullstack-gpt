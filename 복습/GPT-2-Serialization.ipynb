{
 "cells": [
  {
   "cell_type": "markdown",
   "metadata": {},
   "source": [
    "1. openAI의 모델을 사용할 때 우리가 지출하는 비용을 아는 방법\n",
    "1. 모델을 어떻게 저장하고 불러오는지"
   ]
  },
  {
   "cell_type": "markdown",
   "metadata": {},
   "source": [
    "먼저 한번 call할 때 마다 얼마나 돈을 지출하고 있는지 알아보자.\n"
   ]
  },
  {
   "cell_type": "code",
   "execution_count": 2,
   "metadata": {},
   "outputs": [
    {
     "name": "stdout",
     "output_type": "stream",
     "text": [
      "Ingredients:\n",
      "- 1 cup of rice\n",
      "- 1 cup of water\n",
      "- 1 tablespoon of nuruk (fermentation starter)\n",
      "- 1 tablespoon of yeast\n",
      "\n",
      "Instructions:\n",
      "1. Rinse the rice thoroughly and soak it in water for at least 1 hour.\n",
      "2. Drain the rice and steam it until fully cooked.\n",
      "3. Let the rice cool down to room temperature.\n",
      "4. In a large bowl, mix the nuruk and yeast with the cooked rice.\n",
      "5. Cover the bowl with a clean cloth and let it ferment for 3-4 days in a warm place.\n",
      "6. After fermentation, strain the mixture through a cheesecloth to remove any solids.\n",
      "7. Transfer the liquid to a clean container and let it sit for another 1-2 days to allow the flavors to develop.\n",
      "8. Your homemade soju is now ready to be enjoyed! Serve chilled and enjoy responsibly. Ingredients:\n",
      "- 1 cup of rice\n",
      "- 1 cup of water\n",
      "- 1 tablespoon of yeast\n",
      "- 1 tablespoon of sugar\n",
      "\n",
      "Instructions:\n",
      "1. Rinse the rice thoroughly and soak it in water for at least 1 hour.\n",
      "2. Drain the rice and place it in a steamer basket. Steam the rice for about 30 minutes, or until it is cooked through.\n",
      "3. Allow the rice to cool to room temperature.\n",
      "4. In a large bowl, mix the yeast and sugar with the water until dissolved.\n",
      "5. Add the cooled rice to the yeast mixture and mix well.\n",
      "6. Cover the bowl with a clean cloth and let it sit at room temperature for 1-2 days, stirring occasionally.\n",
      "7. After 1-2 days, strain the mixture through a cheesecloth or fine mesh strainer to remove any solids.\n",
      "8. Transfer the liquid to a clean glass jar or bottle and store it in the refrigerator.\n",
      "9. Serve the soju chilled and enjoy responsibly. \n",
      "\n",
      "Tokens Used: 420\n",
      "\tPrompt Tokens: 28\n",
      "\tCompletion Tokens: 392\n",
      "Successful Requests: 2\n",
      "Total Cost (USD): $0.000826\n"
     ]
    }
   ],
   "source": [
    "from langchain.chat_models import ChatOpenAI\n",
    "from langchain.callbacks import get_openai_callback\n",
    "\n",
    "chat = ChatOpenAI(\n",
    "    temperature=0.1,\n",
    ")\n",
    "\n",
    "with get_openai_callback() as usage:\n",
    "    a = chat.predict(\"what is the recipe for soju\")\n",
    "    b = chat.predict(\"what is the recipe for soju\")\n",
    "    print(a, b, \"\\n\")\n",
    "    print(usage)"
   ]
  },
  {
   "cell_type": "markdown",
   "metadata": {},
   "source": [
    "get_openai_callback 함수를 사용하면\n",
    "\n",
    "prompt가 얼마나 많은 토큰을 사용했는지, 완료에 얼마나 많은 토큰을 사용했는지 알려준다.\n",
    "\n",
    "비용을 알기 위해 해야 할 일은 with 코드 블록 안에서  \n",
    "모델을 호출하고 print안에 usage를 넣어주면 끝이다.\n",
    "\n",
    "---\n"
   ]
  },
  {
   "cell_type": "markdown",
   "metadata": {},
   "source": [
    "# Serialization\n",
    "\n",
    "채팅 모델이 아닌 LLM(OpenAI)으로 작업할 때 너무 많이 설정하는 경우가 있다.  \n"
   ]
  },
  {
   "cell_type": "code",
   "execution_count": 3,
   "metadata": {},
   "outputs": [],
   "source": [
    "from langchain.llms.openai import OpenAI\n",
    "\n",
    "chat = OpenAI(temperature=0.1, max_tokens=450, model=\"gpt-3.5-turbo-16k\")"
   ]
  },
  {
   "cell_type": "markdown",
   "metadata": {},
   "source": [
    "그리고 설정을 저장하고 싶다면 다음과 같이 작성해준다.\n"
   ]
  },
  {
   "cell_type": "code",
   "execution_count": 4,
   "metadata": {},
   "outputs": [],
   "source": [
    "chat.save(\"model.json\")"
   ]
  },
  {
   "cell_type": "markdown",
   "metadata": {},
   "source": [
    "실행하면 model.json 파일이 생성된 것을 확인할 수 있다.\n",
    "``` json\n",
    "{\n",
    "    \"model_name\": \"gpt-3.5-turbo-16k\",\n",
    "    \"temperature\": 0.1,\n",
    "    \"max_tokens\": 450,\n",
    "    \"top_p\": 1,\n",
    "    \"frequency_penalty\": 0,\n",
    "    \"presence_penalty\": 0,\n",
    "    \"n\": 1,\n",
    "    \"request_timeout\": null,\n",
    "    \"logit_bias\": {},\n",
    "    \"_type\": \"openai\"\n",
    "}\n",
    "```"
   ]
  },
  {
   "cell_type": "markdown",
   "metadata": {},
   "source": [
    "불러오는 방법"
   ]
  },
  {
   "cell_type": "code",
   "execution_count": 5,
   "metadata": {},
   "outputs": [
    {
     "name": "stderr",
     "output_type": "stream",
     "text": [
      "/Users/jkyoon/coding/fullstack-gpt/env/lib/python3.10/site-packages/langchain/llms/openai.py:216: UserWarning: You are trying to use a chat model. This way of initializing it is no longer supported. Instead, please use: `from langchain.chat_models import ChatOpenAI`\n",
      "  warnings.warn(\n",
      "/Users/jkyoon/coding/fullstack-gpt/env/lib/python3.10/site-packages/langchain/llms/openai.py:811: UserWarning: You are trying to use a chat model. This way of initializing it is no longer supported. Instead, please use: `from langchain.chat_models import ChatOpenAI`\n",
      "  warnings.warn(\n"
     ]
    },
    {
     "data": {
      "text/plain": [
       "OpenAIChat(client=<class 'openai.api_resources.chat_completion.ChatCompletion'>, model_name='gpt-3.5-turbo-16k', model_kwargs={'temperature': 0.1, 'max_tokens': 450, 'top_p': 1, 'frequency_penalty': 0, 'presence_penalty': 0, 'n': 1, 'request_timeout': None, 'logit_bias': {}})"
      ]
     },
     "execution_count": 5,
     "metadata": {},
     "output_type": "execute_result"
    }
   ],
   "source": [
    "from langchain.llms.loading import load_llm\n",
    "\n",
    "chat = load_llm(\"model.json\")\n",
    "\n",
    "chat"
   ]
  }
 ],
 "metadata": {
  "kernelspec": {
   "display_name": "env",
   "language": "python",
   "name": "python3"
  },
  "language_info": {
   "codemirror_mode": {
    "name": "ipython",
    "version": 3
   },
   "file_extension": ".py",
   "mimetype": "text/x-python",
   "name": "python",
   "nbconvert_exporter": "python",
   "pygments_lexer": "ipython3",
   "version": "3.10.4"
  }
 },
 "nbformat": 4,
 "nbformat_minor": 2
}
