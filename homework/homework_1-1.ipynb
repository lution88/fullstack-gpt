{
 "cells": [
  {
   "cell_type": "code",
   "execution_count": 4,
   "metadata": {},
   "outputs": [
    {
     "name": "stdout",
     "output_type": "stream",
     "text": [
      "In a world of pixels and code,\n",
      "Where heroes and villains boldly strode,\n",
      "A realm of adventure, mystery, and lore,\n",
      "Where gamers unite to explore and score.\n",
      "\n",
      "From the dungeons deep to the skies above,\n",
      "Players embark on quests they love,\n",
      "With controllers in hand and hearts ablaze,\n",
      "They conquer challenges in myriad ways.\n",
      "\n",
      "In virtual worlds, they find their escape,\n",
      "A place where they can shape their fate,\n",
      "With strategy, skill, and a bit of luck,\n",
      "They battle foes and obstacles with pluck.\n",
      "\n",
      "So let us raise a toast to the game,\n",
      "Where players of all ages lay claim,\n",
      "To victory, friendship, and endless fun,\n",
      "In this digital realm, we are all one.This poem is like a fun adventure in a video game world! Imagine a place where everything is made of pixels and code, where brave heroes and sneaky villains go on exciting journeys. It's a world full of mystery and stories, where gamers come together to explore and win points.\n",
      "\n",
      "Players go from deep dungeons to high skies, going on quests they really enjoy. With their game controllers in hand and excitement in their hearts, they overcome challenges in lots of different ways.\n",
      "\n",
      "In these virtual worlds, they can escape from real life and make their own destiny. By using their smarts, skills, and a little luck, they fight enemies and obstacles with courage.\n",
      "\n",
      "Let's cheer for the game, where people of all ages can claim victory, make friends, and have endless fun. In this digital world, we all come together as one big gaming family!"
     ]
    },
    {
     "data": {
      "text/plain": [
       "AIMessageChunk(content=\"This poem is like a fun adventure in a video game world! Imagine a place where everything is made of pixels and code, where brave heroes and sneaky villains go on exciting journeys. It's a world full of mystery and stories, where gamers come together to explore and win points.\\n\\nPlayers go from deep dungeons to high skies, going on quests they really enjoy. With their game controllers in hand and excitement in their hearts, they overcome challenges in lots of different ways.\\n\\nIn these virtual worlds, they can escape from real life and make their own destiny. By using their smarts, skills, and a little luck, they fight enemies and obstacles with courage.\\n\\nLet's cheer for the game, where people of all ages can claim victory, make friends, and have endless fun. In this digital world, we all come together as one big gaming family!\")"
      ]
     },
     "execution_count": 4,
     "metadata": {},
     "output_type": "execute_result"
    }
   ],
   "source": [
    "from langchain.chat_models import ChatOpenAI\n",
    "from langchain.prompts import ChatPromptTemplate\n",
    "from langchain.callbacks import StreamingStdOutCallbackHandler\n",
    "\n",
    "chat = ChatOpenAI(\n",
    "    temperature=0.1,\n",
    "    streaming=True,\n",
    "    callbacks=[\n",
    "        StreamingStdOutCallbackHandler(),\n",
    "    ],\n",
    "    # openapi_api_key=\"sdklfjskldjf\"\n",
    ")\n",
    "\n",
    "# 시를 작성하는 체인\n",
    "poet_prompt = ChatPromptTemplate.from_messages(\n",
    "    [\n",
    "        (\n",
    "            \"system\",\n",
    "            \"You are Greatest poet in this world. You can create any type of poem with fun.\",\n",
    "        ),\n",
    "        (\"human\", \"I want to read poem of {Theme}.\"),\n",
    "    ]\n",
    ")\n",
    "\n",
    "poet_chain = poet_prompt | chat\n",
    "\n",
    "# 시를 설명하는 체인\n",
    "explain_poem_prompt = ChatPromptTemplate.from_messages(\n",
    "    [\n",
    "        (\n",
    "            \"system\",\n",
    "            \"You are a person who can explain poetry in a very easy and fun way. You might be able to explain it in words that children will like. You shouldn't change the existing poem too much. If you can't explain it easily, just say you can't do it.\",\n",
    "        ),\n",
    "        (\"human\", \"{poem}\"),\n",
    "    ]\n",
    ")\n",
    "\n",
    "explain_chain = explain_poem_prompt | chat\n",
    "\n",
    "final_chain = {\"poem\": poet_chain} | explain_chain\n",
    "\n",
    "final_chain.invoke(\n",
    "    {\n",
    "        \"Theme\": \"game\",\n",
    "    }\n",
    ")"
   ]
  },
  {
   "cell_type": "code",
   "execution_count": null,
   "metadata": {},
   "outputs": [],
   "source": []
  },
  {
   "cell_type": "code",
   "execution_count": null,
   "metadata": {},
   "outputs": [],
   "source": []
  }
 ],
 "metadata": {
  "kernelspec": {
   "display_name": "env",
   "language": "python",
   "name": "python3"
  },
  "language_info": {
   "codemirror_mode": {
    "name": "ipython",
    "version": 3
   },
   "file_extension": ".py",
   "mimetype": "text/x-python",
   "name": "python",
   "nbconvert_exporter": "python",
   "pygments_lexer": "ipython3",
   "version": "3.11.5"
  }
 },
 "nbformat": 4,
 "nbformat_minor": 2
}
