{
 "cells": [
  {
   "cell_type": "markdown",
   "metadata": {
    "vscode": {
     "languageId": "plaintext"
    }
   },
   "source": [
    "# dynamic 하게 example들을 선택하는 방법\n",
    "정말 많은 예제들 중 어느 정도의 example들을 골라서 prompt에 허용할건지 정해야 한다.  \n",
    "왜냐하면 많은 prompt는 더 많은 비용을 지불해야 하기 때문이다.  \n",
    "비용이 있더라도 때로는 모델에 알맞는 양이 있기 때문. \n",
    "\n",
    "\n"
   ]
  },
  {
   "cell_type": "code",
   "execution_count": 2,
   "metadata": {},
   "outputs": [],
   "source": [
    "from langchain.chat_models import ChatOpenAI\n",
    "from langchain.prompts.few_shot import FewShotPromptTemplate\n",
    "from langchain.callbacks import StreamingStdOutCallbackHandler\n",
    "from langchain.prompts.prompt import PromptTemplate"
   ]
  },
  {
   "cell_type": "markdown",
   "metadata": {},
   "source": [
    "먼저 다음 기능(LengthBasedExampleSelector) 을 import 해보자.\n"
   ]
  },
  {
   "cell_type": "code",
   "execution_count": 3,
   "metadata": {},
   "outputs": [],
   "source": [
    "from langchain.prompts.example_selector import LengthBasedExampleSelector"
   ]
  },
  {
   "cell_type": "markdown",
   "metadata": {},
   "source": [
    "\n",
    "LengthBasedExampleSelector 는 기본적으로 예제들을 형식화 할 수 있고,  \n",
    "예제의 양이 얼마나 되는지 확인이 가능하다.  \n",
    "그렇게 되면 우리가 설정해 놓은 세팅값에 따라 prompt에 알맞은 예제를 골라줄 것이다.  \n"
   ]
  },
  {
   "cell_type": "code",
   "execution_count": 4,
   "metadata": {},
   "outputs": [],
   "source": [
    "chat = ChatOpenAI(\n",
    "    temperature=0.1,\n",
    "    streaming=True,\n",
    "    callbacks=[StreamingStdOutCallbackHandler()],\n",
    ")\n",
    "\n",
    "examples = [\n",
    "    {\n",
    "        \"country\": \"Greece\",\n",
    "        \"answer\": \"\"\"\n",
    "        I know this: \n",
    "        Capital: Athens\n",
    "        Language: Greek\n",
    "        Food: Souvlaki and Feta Cheese\n",
    "        Currency: Euro\n",
    "        \"\"\",\n",
    "    },\n",
    "    {\n",
    "        \"country\": \"Italy\",\n",
    "        \"answer\": \"\"\"\n",
    "        I know this:\n",
    "        Capital: Rome\n",
    "        Language: Italian\n",
    "        Food: Pizza and Pasta\n",
    "        Currency: Euro\n",
    "        \"\"\",\n",
    "    },\n",
    "    {\n",
    "        \"country\": \"korea\",\n",
    "        \"answer\": \"\"\"\n",
    "        I know this:\n",
    "        Capital: Seoul\n",
    "        Language: Korean\n",
    "        Food: Kimchi and Galbi\n",
    "        Currency: won\n",
    "        \"\"\",\n",
    "    },\n",
    "]\n",
    "\n",
    "# 예제 대화 형식 지정\n",
    "example_prompt = PromptTemplate.from_template(\"Human: {country}\\nAI: {answer}\")"
   ]
  },
  {
   "cell_type": "markdown",
   "metadata": {},
   "source": [
    "이제 우리가 할 일은 FewShotPromptTemplate가 리스트에 있는 모든 예제들(examples)를 가지고 형식화 하기 전에 few_shot_chat_prompt 의 examples 를 지워준다.  \n",
    "왜냐하면 지금 examples 는 모든 예제들이기 때문.  \n",
    "\n",
    "example_selector 를 만들어서 사용해보자.\n",
    "\n",
    "LengthBasedExampleSelector은 똑같이 examples를 필요로 한다.  \n",
    "또, 형식화와 양이 얼마나 되는지 알아보기 위해서 example_prompt도 필요하다.  \n",
    "예제의 양도 정해주자.  "
   ]
  },
  {
   "cell_type": "code",
   "execution_count": 7,
   "metadata": {},
   "outputs": [],
   "source": [
    "# selector 만들기\n",
    "example_selector = LengthBasedExampleSelector(\n",
    "    # 사용할 예제들\n",
    "    examples=examples,\n",
    "    # 형식화와 양이 얼마나 되는지 알아보기 위한 example_prompt\n",
    "    example_prompt=example_prompt,\n",
    "    # 예제의 양을 얼마나 허용할지 정한다.(글자수?)\n",
    "    max_length=100,\n",
    ")"
   ]
  },
  {
   "cell_type": "markdown",
   "metadata": {},
   "source": [
    "example_selector를 만들었으면 FewShotPromptTemplate 에 example_selector에 넣어주자."
   ]
  },
  {
   "cell_type": "code",
   "execution_count": 8,
   "metadata": {},
   "outputs": [
    {
     "data": {
      "text/plain": [
       "'Human: Greece\\nAI: \\n        I know this: \\n        Capital: Athens\\n        Language: Greek\\n        Food: Souvlaki and Feta Cheese\\n        Currency: Euro\\n        \\n\\nHuman: What do you know about austraila'"
      ]
     },
     "execution_count": 8,
     "metadata": {},
     "output_type": "execute_result"
    }
   ],
   "source": [
    "few_shot_prompt = FewShotPromptTemplate(\n",
    "    example_prompt=example_prompt,\n",
    "    # examples 대신 example_selector 사용\n",
    "    example_selector=example_selector,\n",
    "    suffix=\"Human: What do you know about {country}\",\n",
    "    input_variables=[\"country\"],\n",
    ")\n",
    "\n",
    "few_shot_prompt.format(country=\"austraila\")\n",
    "\n",
    "\n",
    "# chain = few_shot_prompt | chat\n",
    "\n",
    "# chain.invoke({\"country\": \"germany\"})"
   ]
  },
  {
   "cell_type": "markdown",
   "metadata": {},
   "source": [
    "위에서 볼 수 있듯 예제 수를 제한하는 것은 매우 유용하다.  \n",
    "비용도 절약할 수 있다.  \n",
    "또한 사용자의 질문이 항상 LLM으로 전달되어도 언제든지 예제들을 허용하는 양을 지키며 LLM에게 전달하게 될 것이다.  \n",
    "\n",
    "---\n",
    "\n",
    "전체 코드"
   ]
  },
  {
   "cell_type": "code",
   "execution_count": 10,
   "metadata": {},
   "outputs": [
    {
     "data": {
      "text/plain": [
       "'Human: Greece\\nAI: \\n        I know this: \\n        Capital: Athens\\n        Language: Greek\\n        Food: Souvlaki and Feta Cheese\\n        Currency: Euro\\n        \\n\\nHuman: Italy\\nAI: \\n        I know this:\\n        Capital: Rome\\n        Language: Italian\\n        Food: Pizza and Pasta\\n        Currency: Euro\\n        \\n\\nHuman: What do you know about austraila'"
      ]
     },
     "execution_count": 10,
     "metadata": {},
     "output_type": "execute_result"
    }
   ],
   "source": [
    "# 전체 코드\n",
    "from langchain.chat_models import ChatOpenAI\n",
    "from langchain.prompts.few_shot import FewShotPromptTemplate\n",
    "from langchain.callbacks import StreamingStdOutCallbackHandler\n",
    "from langchain.prompts.prompt import PromptTemplate\n",
    "from langchain.prompts.example_selector import LengthBasedExampleSelector\n",
    "\n",
    "chat = ChatOpenAI(\n",
    "    temperature=0.1,\n",
    "    streaming=True,\n",
    "    callbacks=[StreamingStdOutCallbackHandler()],\n",
    ")\n",
    "\n",
    "examples = [\n",
    "    {\n",
    "        \"country\": \"Greece\",\n",
    "        \"answer\": \"\"\"\n",
    "        I know this: \n",
    "        Capital: Athens\n",
    "        Language: Greek\n",
    "        Food: Souvlaki and Feta Cheese\n",
    "        Currency: Euro\n",
    "        \"\"\",\n",
    "    },\n",
    "    {\n",
    "        \"country\": \"Italy\",\n",
    "        \"answer\": \"\"\"\n",
    "        I know this:\n",
    "        Capital: Rome\n",
    "        Language: Italian\n",
    "        Food: Pizza and Pasta\n",
    "        Currency: Euro\n",
    "        \"\"\",\n",
    "    },\n",
    "    {\n",
    "        \"country\": \"korea\",\n",
    "        \"answer\": \"\"\"\n",
    "        I know this:\n",
    "        Capital: Seoul\n",
    "        Language: Korean\n",
    "        Food: Kimchi and Galbi\n",
    "        Currency: won\n",
    "        \"\"\",\n",
    "    },\n",
    "]\n",
    "\n",
    "# 예제 대화 형식 지정\n",
    "example_prompt = PromptTemplate.from_template(\"Human: {country}\\nAI: {answer}\")\n",
    "\n",
    "# selector 만들기\n",
    "example_selector = LengthBasedExampleSelector(\n",
    "    # 사용할 예제들\n",
    "    examples=examples,\n",
    "    # 형식화와 양이 얼마나 되는지 알아보기 위한 example_prompt\n",
    "    example_prompt=example_prompt,\n",
    "    # 예제의 양을 얼마나 허용할지 정한다.(글자수?)\n",
    "    max_length=180,\n",
    ")\n",
    "\n",
    "few_shot_prompt = FewShotPromptTemplate(\n",
    "    example_prompt=example_prompt,\n",
    "    # examples 대신 example_selector 사용\n",
    "    example_selector=example_selector,\n",
    "    suffix=\"Human: What do you know about {country}\",\n",
    "    input_variables=[\"country\"],\n",
    ")\n",
    "\n",
    "few_shot_prompt.format(country=\"austraila\")"
   ]
  },
  {
   "cell_type": "markdown",
   "metadata": {},
   "source": [
    "# 자신만의 example selector 만드는 방법\n",
    "random example selector을 구현해 보자. \n",
    "- 무작위로 선택하는 예제 선택기!\n",
    "\n",
    "\n"
   ]
  },
  {
   "cell_type": "code",
   "execution_count": 27,
   "metadata": {},
   "outputs": [
    {
     "data": {
      "text/plain": [
       "'Human: Italy\\nAI: \\n        I know this:\\n        Capital: Rome\\n        Language: Italian\\n        Food: Pizza and Pasta\\n        Currency: Euro\\n        \\n\\nHuman: What do you know about austraila'"
      ]
     },
     "execution_count": 27,
     "metadata": {},
     "output_type": "execute_result"
    }
   ],
   "source": [
    "from langchain.chat_models import ChatOpenAI\n",
    "from langchain.prompts.few_shot import FewShotPromptTemplate\n",
    "from langchain.callbacks import StreamingStdOutCallbackHandler\n",
    "from langchain.prompts.prompt import PromptTemplate\n",
    "\n",
    "# random example selector\n",
    "from langchain.prompts.example_selector.base import BaseExampleSelector\n",
    "\n",
    "examples = [\n",
    "    {\n",
    "        \"country\": \"Greece\",\n",
    "        \"answer\": \"\"\"\n",
    "        I know this: \n",
    "        Capital: Athens\n",
    "        Language: Greek\n",
    "        Food: Souvlaki and Feta Cheese\n",
    "        Currency: Euro\n",
    "        \"\"\",\n",
    "    },\n",
    "    {\n",
    "        \"country\": \"Italy\",\n",
    "        \"answer\": \"\"\"\n",
    "        I know this:\n",
    "        Capital: Rome\n",
    "        Language: Italian\n",
    "        Food: Pizza and Pasta\n",
    "        Currency: Euro\n",
    "        \"\"\",\n",
    "    },\n",
    "    {\n",
    "        \"country\": \"korea\",\n",
    "        \"answer\": \"\"\"\n",
    "        I know this:\n",
    "        Capital: Seoul\n",
    "        Language: Korean\n",
    "        Food: Kimchi and Galbi\n",
    "        Currency: won\n",
    "        \"\"\",\n",
    "    },\n",
    "]\n",
    "\n",
    "\n",
    "class RandomExampleSelector(BaseExampleSelector):\n",
    "    def __init__(self, examples):\n",
    "        self.examples = examples\n",
    "\n",
    "    def add_example(self, example):\n",
    "        return self.examples.append(example)\n",
    "\n",
    "    # 이 클래스는 select_example을 구현해 주어야 한다.\n",
    "    def select_examples(self, input_variables):\n",
    "        from random import choice\n",
    "\n",
    "        return [choice(self.examples)]\n",
    "\n",
    "\n",
    "#  예제 대화 형식 지정\n",
    "example_prompt = PromptTemplate.from_template(\"Human: {country}\\nAI: {answer}\")\n",
    "\n",
    "# selector 만들기\n",
    "example_selector = RandomExampleSelector(\n",
    "    # 사용할 예제들\n",
    "    examples=examples,\n",
    ")\n",
    "\n",
    "few_shot_prompt = FewShotPromptTemplate(\n",
    "    example_prompt=example_prompt,\n",
    "    # examples 대신 example_selector 사용\n",
    "    example_selector=example_selector,\n",
    "    suffix=\"Human: What do you know about {country}\",\n",
    "    input_variables=[\"country\"],\n",
    ")\n",
    "\n",
    "few_shot_prompt.format(country=\"austraila\")"
   ]
  },
  {
   "cell_type": "markdown",
   "metadata": {},
   "source": [
    "# Serialization and Composition\n",
    "- Serialize(직렬화) 불러오기 저장 등을 의미한다.\n",
    "- compose는 다양한 작은 prompt template을 가지고 이들을 모두 결합하는 것을 뜻한다.\n",
    "---\n",
    "이번에는 디스크에서 prompt templates을 가져오는 방법에 대해 배워보자.\n",
    "먼저, 두 가지 타입의 prompt를 만들어야 한다.\n",
    "하나는 Json 파일(prompt.json)이고, 다른 하나는 yaml(prompt.yaml) 파일이다.\n",
    "\n",
    "\n"
   ]
  },
  {
   "cell_type": "markdown",
   "metadata": {},
   "source": [
    "prompt.json"
   ]
  },
  {
   "cell_type": "markdown",
   "metadata": {},
   "source": [
    "``` json\n",
    "{\n",
    "    \"_type\": \"prompt\",\n",
    "    \"template\": \"what is the capital of {country}?\",\n",
    "    \"input_variables\": [\n",
    "        \"country\"\n",
    "    ]\n",
    "}\n",
    "```"
   ]
  },
  {
   "cell_type": "markdown",
   "metadata": {},
   "source": [
    "json 파일 불러오기"
   ]
  },
  {
   "cell_type": "code",
   "execution_count": 30,
   "metadata": {},
   "outputs": [
    {
     "data": {
      "text/plain": [
       "'what is the capital of Germany?'"
      ]
     },
     "execution_count": 30,
     "metadata": {},
     "output_type": "execute_result"
    }
   ],
   "source": [
    "from langchain.prompts import load_prompt\n",
    "\n",
    "prompt = load_prompt(\"./prompt.json\")\n",
    "\n",
    "prompt.format(country=\"Germany\")"
   ]
  },
  {
   "cell_type": "markdown",
   "metadata": {},
   "source": [
    "다음은 yaml 파일 (prompt.yaml)"
   ]
  },
  {
   "cell_type": "code",
   "execution_count": 31,
   "metadata": {},
   "outputs": [
    {
     "data": {
      "text/plain": [
       "'what is the capital of Germany'"
      ]
     },
     "execution_count": 31,
     "metadata": {},
     "output_type": "execute_result"
    }
   ],
   "source": [
    "prompt = load_prompt(\"./prompt.yaml\")\n",
    "\n",
    "prompt.format(country=\"Germany\")"
   ]
  },
  {
   "cell_type": "markdown",
   "metadata": {},
   "source": [
    "마지막으로 알아볼 것은 많은 prompt들의 memory등을 다 모으는 방법(다 합치는 방법)에 대해 알아보자. \n",
    "\n",
    "<b>PipelinePromptTemplate</b>\n",
    "\n",
    "PipelinePromptTemplate은 많은 prompt들을 하나로 합칠 수 있도록 해준다.\n"
   ]
  },
  {
   "cell_type": "code",
   "execution_count": 32,
   "metadata": {},
   "outputs": [],
   "source": [
    "from langchain.prompts.pipeline import PipelinePromptTemplate"
   ]
  },
  {
   "cell_type": "markdown",
   "metadata": {},
   "source": [
    "\n",
    "4개의 prompt를 만들어 보자.  \n",
    "3개는 작은 prompt들이고 마지막 1개는 모든 것을 포함하는 prompt가 될 것이다.  \n",
    "\n",
    "첫 번째 prompt에 너는 role-playing 도우미이고 character을 흉내내는 AI라고 알려준다."
   ]
  },
  {
   "cell_type": "code",
   "execution_count": 52,
   "metadata": {},
   "outputs": [],
   "source": [
    "# 첫 번째 prompt\n",
    "intro = PromptTemplate.from_template(\n",
    "    \"\"\"\n",
    "    You are a role playing assistant.\n",
    "    And you are impersonating a {character} say korean\n",
    "\"\"\"\n",
    ")"
   ]
  },
  {
   "cell_type": "markdown",
   "metadata": {},
   "source": [
    "두 번째 prompt는 어떻게 캐릭터들이 말하는 지에 대한 예제들이 있다\n",
    "\n",
    "어떻게 질문하는지 어떻게 답변하는지."
   ]
  },
  {
   "cell_type": "code",
   "execution_count": 35,
   "metadata": {},
   "outputs": [],
   "source": [
    "example = PromptTemplate.from_template(\n",
    "    \"\"\"\n",
    "    This is an example of how you talk:\n",
    "\n",
    "    Human: {example_question}\n",
    "    You: {example_answer}\n",
    "\"\"\"\n",
    ")"
   ]
  },
  {
   "cell_type": "markdown",
   "metadata": {},
   "source": [
    "그리고 세 번째는 AI 도우미가 우리의 텍스트를 완성해주는 start 라는 예제\n"
   ]
  },
  {
   "cell_type": "code",
   "execution_count": 36,
   "metadata": {},
   "outputs": [],
   "source": [
    "start = PromptTemplate.from_template(\n",
    "    \"\"\"\n",
    "    Start now!\n",
    "\n",
    "    Human: {question}\n",
    "    You: \n",
    "\"\"\"\n",
    ")"
   ]
  },
  {
   "cell_type": "markdown",
   "metadata": {},
   "source": [
    "마지막으로, 이 모든 것들을 하나로 합친 prompt"
   ]
  },
  {
   "cell_type": "code",
   "execution_count": 53,
   "metadata": {},
   "outputs": [],
   "source": [
    "final = PromptTemplate.from_template(\n",
    "    \"\"\"\n",
    "    {intro}\n",
    "\n",
    "    {example}\n",
    "\n",
    "    {start}\n",
    "\"\"\"\n",
    ")"
   ]
  },
  {
   "cell_type": "markdown",
   "metadata": {},
   "source": [
    "이제 모든 템플릿을 하나로 만들어 보자."
   ]
  },
  {
   "cell_type": "code",
   "execution_count": 54,
   "metadata": {},
   "outputs": [],
   "source": [
    "prompts = [\n",
    "    (\"intro\", intro),\n",
    "    (\"example\", example),\n",
    "    (\"start\", start),\n",
    "]"
   ]
  },
  {
   "cell_type": "code",
   "execution_count": 55,
   "metadata": {},
   "outputs": [],
   "source": [
    "full_prompt = PipelinePromptTemplate(\n",
    "    final_prompt=final,\n",
    "    pipeline_prompts=prompts,\n",
    ")"
   ]
  },
  {
   "cell_type": "markdown",
   "metadata": {},
   "source": [
    "이렇게 작성하면 full_prompt 를 format 하면 유효성 검사 가능!\n",
    "\n"
   ]
  },
  {
   "cell_type": "code",
   "execution_count": 48,
   "metadata": {},
   "outputs": [
    {
     "data": {
      "text/plain": [
       "'\\n    \\n    You are a role playing assistant.\\n    And you are impersonating a Pirate\\n\\n\\n    \\n    This is an example of how you talk:\\n\\n    Human: what is your location?\\n    You: arrrrrr! that is secret!! arg arg!\\n\\n\\n    \\n    Start now!\\n\\n    Human: what is your fav food?\\n    You: \\n\\n'"
      ]
     },
     "execution_count": 48,
     "metadata": {},
     "output_type": "execute_result"
    }
   ],
   "source": [
    "full_prompt.format(\n",
    "    character=\"Pirate\",\n",
    "    example_question=\"what is your location?\",\n",
    "    example_answer=\"arrrrrr! that is secret!! arg arg!\",\n",
    "    question=\"what is your fav food?\",\n",
    ")"
   ]
  },
  {
   "cell_type": "markdown",
   "metadata": {},
   "source": [
    "위 코드를 보면 롤 플레잉 도우미이고 해적을 흉내 내달라고 하는 소개용 prompt가 잘 들어간 걸 확인할 수 있다.  \n",
    "어떻게 말하는 지에 대한 example 도,  \n",
    "\n",
    "이것들이 바로 많은 prompt들을 하나의 prompt로 합치는 방법이다."
   ]
  },
  {
   "cell_type": "code",
   "execution_count": 56,
   "metadata": {},
   "outputs": [
    {
     "name": "stdout",
     "output_type": "stream",
     "text": [
      "Arrrrr! My favorite food be kimchi! Spicy and delicious, just like the treasures I seek on the high seas! Arrrrr!"
     ]
    },
    {
     "data": {
      "text/plain": [
       "AIMessageChunk(content='Arrrrr! My favorite food be kimchi! Spicy and delicious, just like the treasures I seek on the high seas! Arrrrr!')"
      ]
     },
     "execution_count": 56,
     "metadata": {},
     "output_type": "execute_result"
    }
   ],
   "source": [
    "chain = full_prompt | chat\n",
    "\n",
    "chain.invoke(\n",
    "    {\n",
    "        \"character\": \"Pirate\",\n",
    "        \"example_question\": \"what is your location?\",\n",
    "        \"example_answer\": \"arrrrrr! that is secret!! arg arg!\",\n",
    "        \"question\": \"what is your fav food?\",\n",
    "    }\n",
    ")"
   ]
  },
  {
   "cell_type": "code",
   "execution_count": null,
   "metadata": {},
   "outputs": [],
   "source": []
  }
 ],
 "metadata": {
  "kernelspec": {
   "display_name": "env",
   "language": "python",
   "name": "python3"
  },
  "language_info": {
   "codemirror_mode": {
    "name": "ipython",
    "version": 3
   },
   "file_extension": ".py",
   "mimetype": "text/x-python",
   "name": "python",
   "nbconvert_exporter": "python",
   "pygments_lexer": "ipython3",
   "version": "3.10.4"
  }
 },
 "nbformat": 4,
 "nbformat_minor": 2
}
