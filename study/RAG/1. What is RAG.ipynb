{
 "cells": [
  {
   "cell_type": "markdown",
   "metadata": {},
   "source": [
    "RAG 사용법 - Retrieval Augmented Generation(검색 증강 생성)\n",
    "\n",
    "model들은 많은 데이터를 통해 학습하지만 개인적인 데이터들엔 때론 접근 할 수 없어. (개인 DB나 문서 같은 것들)\n",
    "\n",
    "그래서 RAG를 사용한다.\n",
    "\n",
    "우리가 질문했을 때 2가지 일을 하게 된다.\n",
    "1. `what is foo?` 질문\n",
    "2. `foo..` 에 대한 자료 찾기\n",
    "\n",
    "질문은 prompt에 전달하고, 또한 동시에 우리의 질문과 관련이 있는 문서(단어가 포함된 문서)들도 준비하게 된다.\n",
    "```Prompt\n",
    "=== Prompt ===\n",
    "Question: {q}\n",
    "Context: {docs}\n",
    "===============\n",
    "```\n",
    "\n",
    "먼저, Model이 'foo'에 대해 전혀 학습이 되어 있지 않다고 가정해보자.\n",
    "\n",
    "그래서 우리는 먼저 'foo'와 관련된 많은 문서들을 가져 올 것이다.(foo와 관련된 많은 문서들)\n",
    "\n",
    "이 문서들은 context로써 우리의 질문과 함께 묶어서 큰 Language Model에 보내게 된다.\n",
    "\n",
    "이제 Model은 기존에 학습된 수 많음 data와 함께 + 추가 전송한 data 까지 갖게 되었다.\n",
    "\n",
    "이게 바로 Retrieval Augmented Generation(RAG)이다.\n",
    "\n",
    "개인으로부터 제공된 data를 사용하거나 탐색함으로써 우리가 Language Model의 능력을 더 확장시키는 것이다."
   ]
  },
  {
   "cell_type": "markdown",
   "metadata": {},
   "source": [
    "우리는 질문을 할거고, 질문을 할 때 우리는 저장된 Vetor store 에서 'foo'라는 단어를 탐색할거다.\n",
    "(이건 해당 단어의 유무를 따지는게 아니다. 탐색의 개념)\n",
    "\n",
    "우리는 지금 what is 'foo'가 뭔지 질문할거고, About 'foo'와 관련된 문서를 가져올거고,\n",
    "\n",
    "우리의 질문과 함께 그 문서들은 prompt로 보내는 거다.\n",
    "\n",
    "그 뒤엔 model로 해당 prompt를 전달하게 된다.\n",
    "\n",
    "그럼 이제 Model은 우리의 질문. 이미 학습된 data, 그리고 우리가 추가로 보낸 data까지 갖고 있지.\n",
    "\n",
    "만약 원한다면 model에게 우리가 보낸 문서만을 가지고 답변하게 할 수 있다. 기존의 학습 데이터를 아예 참고하지 않고!  \n",
    "왜냐하면 우리 문서가 더 최신 data를 가지고 있을 수 있기 때문에\n",
    "\n",
    "어쨋든, 우리의 질문을 우리 개인의 문서화 함께 prompt에서 합치고 model로 보내는 게 RAG 이다.\n",
    "\n",
    "RAG에는 여러 방식이 존재한다.\n",
    "\n",
    "위 방식은 Stuff documents 로 모든 문서를 prompt에 넣고 model에 전달하는 방식이다."
   ]
  }
 ],
 "metadata": {
  "kernelspec": {
   "display_name": "env",
   "language": "python",
   "name": "python3"
  },
  "language_info": {
   "name": "python",
   "version": "3.11.5"
  }
 },
 "nbformat": 4,
 "nbformat_minor": 2
}
