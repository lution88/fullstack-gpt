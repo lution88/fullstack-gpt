{
 "cells": [
  {
   "cell_type": "markdown",
   "metadata": {},
   "source": [
    "이전에 split했었던 문서에 embed 작업을 해보자.\n",
    "\n",
    "그 전에 먼저 embedding model에 대해 살펴보자.\n",
    "\n",
    "OpenAI가 가지고 있고, LangChain이 지원하는 거다."
   ]
  },
  {
   "cell_type": "code",
   "execution_count": null,
   "metadata": {},
   "outputs": [],
   "source": [
    "from langchain.embeddings import OpenAIEmbeddings\n",
    "\n",
    "embedder = OpenAIEmbeddings()\n",
    "\n",
    "embedder.embed_query(\"Hi\")"
   ]
  },
  {
   "cell_type": "markdown",
   "metadata": {},
   "source": [
    "```python\n",
    "embedder.embed_query(\"Hi\")\n",
    "```\n",
    "위 코드를 실행하면 embed 작업을 수행한다.\n",
    "\n",
    "그럼 'Hi'를 표현하는 벡터를 얻게 될 것이다.\n",
    "\n",
    "차원이 몇 개 인지 확인해 보자."
   ]
  },
  {
   "cell_type": "code",
   "execution_count": 2,
   "metadata": {},
   "outputs": [
    {
     "data": {
      "text/plain": [
       "1536"
      ]
     },
     "execution_count": 2,
     "metadata": {},
     "output_type": "execute_result"
    }
   ],
   "source": [
    "vector = embedder.embed_query(\"Hi\")\n",
    "len(vector)"
   ]
  },
  {
   "cell_type": "markdown",
   "metadata": {},
   "source": [
    "한 개의 단어 Hi를 위한 vector가 1536개 이다. (차원)"
   ]
  },
  {
   "cell_type": "markdown",
   "metadata": {},
   "source": [
    "이번에는 문서들을 embedding 해보자.  \n",
    "이것들은 string의 배열로 되어있어야 한다.\n"
   ]
  },
  {
   "cell_type": "code",
   "execution_count": 4,
   "metadata": {},
   "outputs": [
    {
     "name": "stdout",
     "output_type": "stream",
     "text": [
      "4 1536\n"
     ]
    }
   ],
   "source": [
    "# 이것들은 string의 배열로 되어있어야 한다.\n",
    "vector = embedder.embed_documents([\n",
    "    'hi',\n",
    "    'how',\n",
    "    'are',\n",
    "    'you longer sentence because',\n",
    "])\n",
    "\n",
    "print(len(vector), len(vector[0]))"
   ]
  },
  {
   "cell_type": "markdown",
   "metadata": {},
   "source": [
    "vector에 입력해 준 4개의 각 문서에 하나씩 할당된 것이다.\n",
    "\n",
    "또 이들 각각은 같은 차원을 갖고 있다.\n",
    "\n",
    "즉, 위에서 우리는 4개의 벡터가 있고, 각 벡터는 1536개의 차원을 갖고 있다."
   ]
  },
  {
   "cell_type": "markdown",
   "metadata": {},
   "source": [
    "이제 실제로 우리 문서를 embed 해보자.\n",
    "\n",
    "위에서처럼 직접적으로 하진 않을 것이다. \n",
    "\n",
    "왜냐하면 문서 embed를 반복해서 수행하고 싶지 않기 때문이다.\n",
    "\n",
    "대신, 우리는 그 embed들을 저장해 줄거다.\n",
    "\n",
    "이 방법으로 코스트를 줄일 수 있다.\n",
    "\n",
    "그리고 랭체인은 임베딩한 것들을 캣이하는 기능을 제공하고 있다.\n",
    "\n",
    "---  \n",
    "\n"
   ]
  },
  {
   "cell_type": "markdown",
   "metadata": {},
   "source": [
    "이제 vector store에 대해 알아보자.\n",
    "\n",
    "vector store는 일종의 데이터베이스라고 생각할 수 있다.\n",
    "\n",
    "벡터 공간에서 검색을 할 수 있게 해준다.\n",
    "\n",
    "그러니까, 우리가 벡터들을 만들고나서 그것들을 캐시해주고 vector store에 그 벡터들을 넣어주면,\n",
    "\n",
    "우리가 검색을 할 수 있다.\n",
    "\n",
    "관련있는 문서들만 찾아낼 수 있게 되는 것!\n",
    "\n"
   ]
  },
  {
   "cell_type": "code",
   "execution_count": 5,
   "metadata": {},
   "outputs": [],
   "source": [
    "from langchain.chat_models import ChatOpenAI\n",
    "from langchain.document_loaders import UnstructuredFileLoader\n",
    "from langchain.text_splitter import CharacterTextSplitter\n",
    "from langchain.vectorstores import Chroma\n",
    "from langchain.embeddings import OpenAIEmbeddings\n",
    "\n",
    "splitter = CharacterTextSplitter.from_tiktoken_encoder(\n",
    "    separator=\"\\n\",\n",
    "    chunk_size=600,\n",
    "    chunk_overlap=100,\n",
    ")\n",
    "\n",
    "loader = UnstructuredFileLoader(\"./files/chapter_one.pdf\")\n",
    "\n",
    "docs = loader.load_and_split(text_splitter=splitter)\n",
    "\n",
    "embeddings = OpenAIEmbeddings()\n",
    "\n",
    "vectorstore = Chroma.from_documents(docs, embeddings)\n",
    "\n"
   ]
  },
  {
   "cell_type": "code",
   "execution_count": 7,
   "metadata": {},
   "outputs": [
    {
     "data": {
      "text/plain": [
       "[Document(page_content=\"The Ministry of Love was the really frightening one. There were no windows in it at all. Winston had never\\nbeen inside the Ministry of Love, nor within half a kilometre of it. It was a place impossible to enter except on\\nofficial business, and then only by penetrating through a maze of barbed-wire entanglements, steel doors,\\nand hidden machine-gun nests. Even the streets leading up to its outer barriers were roamed by gorilla-faced\\nguards in black uniforms, armed with jointed truncheons.\\nWinston turned round abruptly. He had set his features into the expression of quiet optimism which it was\\nadvisable to wear when facing the telescreen. He crossed the room into the tiny kitchen. By leaving the\\nMinistry at this time of day he had sacrificed his lunch in the canteen, and he was aware that there was no\\nfood in the kitchen except a hunk of dark-coloured bread which had got to be saved for tomorrow's breakfast.\\nHe took down from the shelf a bottle of colourless liquid with a plain white label marked VICTORY GIN. It gave\\noff a sickly, oily smell, as of Chinese ricespirit. Winston poured out nearly a teacupful, nerved himself for a\\nshock, and gulped it down like a dose of medicine.\\nInstantly his face turned scarlet and the water ran out of his eyes. The stuff was like nitric acid, and moreover,\\nin swallowing it one had the sensation of being hit on the back of the head with a rubber club. The next\\nmoment, however, the burning in his belly died down and the world began to look more cheerful. He took a\\n2 / 9\\nchapter_one.md\\n2024-12-17\\ncigarette from a crumpled packet marked VICTORY CIGARETTES and incautiously held it upright, whereupon\\nthe tobacco fell out on to the floor. With the next he was more successful. He went back to the living-room\\nand sat down at a small table that stood to the left of the telescreen. From the table drawer he took out a\\npenholder, a bottle of ink, and a thick, quarto-sized blank book with a red back and a marbled cover.\\nFor some reason the telescreen in the living-room was in an unusual position. Instead of being placed, as was\\nnormal, in the end wall, where it could command the whole room, it was in the longer wall, opposite the\\nwindow. To one side of it there was a shallow alcove in which Winston was now sitting, and which, when the\\nflats were built, had probably been intended to hold bookshelves. By sitting in the alcove, and keeping well\", metadata={'source': './files/chapter_one.pdf'}),\n",
       " Document(page_content=\"had just ended.\\nOutside, even through the shut window-pane, the world looked cold. Down in the street little eddies of wind\\nwere whirling dust and torn paper into spirals, and though the sun was shining and the sky a harsh blue, there\\nseemed to be no colour in anything, except the posters that were plastered everywhere. The\\nblackmoustachio'd face gazed down from every commanding corner. There was one on the house-front\\nimmediately opposite. BIG BROTHER IS WATCHING YOU, the caption said, while the dark eyes looked deep\\ninto Winston's own. Down at streetlevel another poster, torn at one corner, flapped fitfully in the wind,\\nalternately covering and uncovering the single word INGSOC. In the far distance a helicopter skimmed down\\nbetween the roofs, hovered for an instant like a bluebottle, and darted away again with a curving flight. It was\\nthe police patrol, snooping into people's windows. The patrols did not matter, however. Only the Thought\\nPolice mattered.\\nBehind Winston's back the voice from the telescreen was still babbling away about pig-iron and the\\noverfulfilment of the Ninth Three-Year Plan. The telescreen received and transmitted simultaneously. Any\\nsound that Winston made, above the level of a very low whisper, would be picked up by it, moreover, so long\\nas he remained within the field of vision which the metal plaque commanded, he could be seen as well as\\nheard. There was of course no way of knowing whether you were being watched at any given moment. How\\noften, or on what system, the Thought Police plugged in on any individual wire was guesswork. It was even\\nconceivable that they watched everybody all the time. But at any rate they could plug in your wire whenever\\nthey wanted to. You had to live -- did live, from habit that became instinct -- in the assumption that every\\nsound you made was overheard, and, except in darkness, every movement scrutinized.\\n1 / 9\\nchapter_one.md\\n2024-12-17\\nWinston kept his back turned to the telescreen. It was safer, though, as he well knew, even a back can be\\nrevealing. A kilometre away the Ministry of Truth, his place of work, towered vast and white above the grimy\\nlandscape. This, he thought with a sort of vague distaste -- this was London, chief city of Airstrip One, itself\\nthe third most populous of the provinces of Oceania. He tried to squeeze out some childhood memory that\\nshould tell him whether London had always been quite like this. Were there always these vistas of rotting\\nnineteenth-century houses, their sides shored up with baulks of timber, their windows patched with cardboard\", metadata={'source': './files/chapter_one.pdf'}),\n",
       " Document(page_content=\"chapter_one.md\\n2024-12-17\\nPart 1, Chapter 1\\nPart One\\n1 It was a bright cold day in April, and the clocks were striking thirteen. Winston Smith, his chin nuzzled into\\nhis breast in an effort to escape the vile wind, slipped quickly through the glass doors of Victory Mansions,\\nthough not quickly enough to prevent a swirl of gritty dust from entering along with him.\\nThe hallway smelt of boiled cabbage and old rag mats. At one end of it a coloured poster, too large for indoor\\ndisplay, had been tacked to the wall. It depicted simply an enormous face, more than a metre wide: the face of\\na man of about forty-five, with a heavy black moustache and ruggedly handsome features. Winston made for\\nthe stairs. It was no use trying the lift. Even at the best of times it was seldom working, and at present the\\nelectric current was cut off during daylight hours. It was part of the economy drive in preparation for Hate\\nWeek. The flat was seven flights up, and Winston, who was thirty-nine and had a varicose ulcer above his right\\nankle, went slowly, resting several times on the way. On each landing, opposite the lift-shaft, the poster with\\nthe enormous face gazed from the wall. It was one of those pictures which are so contrived that the eyes\\nfollow you about when you move. BIG BROTHER IS WATCHING YOU, the caption beneath it ran.\\nInside the flat a fruity voice was reading out a list of figures which had something to do with the production of\\npig-iron. The voice came from an oblong metal plaque like a dulled mirror which formed part of the surface of\\nthe right-hand wall. Winston turned a switch and the voice sank somewhat, though the words were still\\ndistinguishable. The instrument (the telescreen, it was called) could be dimmed, but there was no way of\\nshutting it off completely. He moved over to the window: a smallish, frail figure, the meagreness of his body\\nmerely emphasized by the blue overalls which were the uniform of the party. His hair was very fair, his face\\nnaturally sanguine, his skin roughened by coarse soap and blunt razor blades and the cold of the winter that\\nhad just ended.\\nOutside, even through the shut window-pane, the world looked cold. Down in the street little eddies of wind\\nwere whirling dust and torn paper into spirals, and though the sun was shining and the sky a harsh blue, there\\nseemed to be no colour in anything, except the posters that were plastered everywhere. The\\nblackmoustachio'd face gazed down from every commanding corner. There was one on the house-front\", metadata={'source': './files/chapter_one.pdf'}),\n",
       " Document(page_content=\"normal, in the end wall, where it could command the whole room, it was in the longer wall, opposite the\\nwindow. To one side of it there was a shallow alcove in which Winston was now sitting, and which, when the\\nflats were built, had probably been intended to hold bookshelves. By sitting in the alcove, and keeping well\\nback, Winston was able to remain outside the range of the telescreen, so far as sight went. He could be heard,\\nof course, but so long as he stayed in his present position he could not be seen. It was partly the unusual\\ngeography of the room that had suggested to him the thing that he was now about to do.\\nBut it had also been suggested by the book that he had just taken out of the drawer. It was a peculiarly\\nbeautiful book. Its smooth creamy paper, a little yellowed by age, was of a kind that had not been\\nmanufactured for at least forty years past. He could guess, however, that the book was much older than that.\\nHe had seen it lying in the window of a frowsy little junk-shop in a slummy quarter of the town (just what\\nquarter he did not now remember) and had been stricken immediately by an overwhelming desire to possess\\nit. Party members were supposed not to go into ordinary shops ('dealing on the free market', it was called),\\nbut the rule was not strictly kept, because there were various things, such as shoelaces and razor blades,\\nwhich it was impossible to get hold of in any other way. He had given a quick glance up and down the street\\nand then had slipped inside and bought the book for two dollars fifty. At the time he was not conscious of\\nwanting it for any particular purpose. He had carried it guiltily home in his briefcase. Even with nothing written\\nin it, it was a compromising possession.\\nThe thing that he was about to do was to open a diary. This was not illegal (nothing was illegal, since there\\nwere no longer any laws), but if detected it was reasonably certain that it would be punished by death, or at\\nleast by twenty-five years in a forced-labour camp. Winston fitted a nib into the penholder and sucked it to\\nget the grease off. The pen was an archaic instrument, seldom used even for signatures, and he had procured\\none, furtively and with some difficulty, simply because of a feeling that the beautiful creamy paper deserved\\nto be written on with a real nib instead of being scratched with an ink-pencil. Actually he was not used to\\nwriting by hand. Apart from very short notes, it was usual to dictate everything into the speakwrite which was\", metadata={'source': './files/chapter_one.pdf'})]"
      ]
     },
     "execution_count": 7,
     "metadata": {},
     "output_type": "execute_result"
    }
   ],
   "source": [
    "result = vectorstore.similarity_search(\"where does winston live\")\n",
    "result\n",
    "# len(result)"
   ]
  },
  {
   "cell_type": "markdown",
   "metadata": {},
   "source": [
    "우리는 모든 문서들을 벡터로 바꾸었고, 그 벡터들을 넣은 vector store를 활용해서 검색을 할 수 있게 되었다.\n",
    "\n",
    "이제 이 query와 비슷한 문서를 찾을 수 있게 된 것이다.\n",
    "\n",
    "이제 결과를 살펴보자.\n",
    "\n",
    "그리고 캐시..\n",
    "\n",
    "캐시 폴더를 만들고 cached embeddings을 생성해보자."
   ]
  },
  {
   "cell_type": "code",
   "execution_count": null,
   "metadata": {},
   "outputs": [],
   "source": [
    "from langchain.chat_models import ChatOpenAI\n",
    "from langchain.document_loaders import UnstructuredFileLoader\n",
    "from langchain.text_splitter import CharacterTextSplitter\n",
    "from langchain.vectorstores import Chroma\n",
    "from langchain.embeddings import OpenAIEmbeddings, CacheBackedEmbeddings\n",
    "from langchain.storage import LocalFileStore\n",
    "\n",
    "# 캐시 경로\n",
    "cache_dir = LocalFileStore('./.cache/')\n",
    "\n",
    "\n",
    "\n",
    "splitter = CharacterTextSplitter.from_tiktoken_encoder(\n",
    "    separator=\"\\n\",\n",
    "    chunk_size=600,\n",
    "    chunk_overlap=100,\n",
    ")\n",
    "\n",
    "loader = UnstructuredFileLoader(\"./files/chapter_one.pdf\")\n",
    "\n",
    "docs = loader.load_and_split(text_splitter=splitter)\n",
    "\n",
    "embeddings = OpenAIEmbeddings()\n",
    "\n",
    "# .from_bytes_store 메서드는 임베딩 작업을 위해 필요한 embedder의 입력을 요구한다.\n",
    "cached_embeddings = CacheBackedEmbeddings.from_bytes_store(\n",
    "    embeddings, cache_dir,\n",
    ")\n",
    "\n",
    "vectorstore = Chroma.from_documents(docs, embeddings)\n",
    "\n",
    "\n"
   ]
  }
 ],
 "metadata": {
  "kernelspec": {
   "display_name": "env",
   "language": "python",
   "name": "python3"
  },
  "language_info": {
   "codemirror_mode": {
    "name": "ipython",
    "version": 3
   },
   "file_extension": ".py",
   "mimetype": "text/x-python",
   "name": "python",
   "nbconvert_exporter": "python",
   "pygments_lexer": "ipython3",
   "version": "3.11.5"
  }
 },
 "nbformat": 4,
 "nbformat_minor": 2
}
