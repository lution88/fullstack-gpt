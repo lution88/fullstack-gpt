{
 "cells": [
  {
   "cell_type": "markdown",
   "metadata": {},
   "source": [
    "Embedding\n",
    "\n",
    "Embedding의 의미는 사람이 읽는 텍스트를 컴퓨터가 이해할 수 있는 숫자들로 변환하는 작업이다.\n",
    "\n",
    "Vector, 좀더 정확히는 vectorization(벡터화) 작업을 하게 될 건데, 우리가 만든 문서마다 각각의 벡터를 만들어 줄거다.\n",
    "\n",
    "OpenAI의 임베딩모델은 1000차원의 벡터를 제공해준다.\n",
    "\n",
    "---"
   ]
  },
  {
   "cell_type": "markdown",
   "metadata": {},
   "source": [
    "그래서, 무엇을 embed 하는 걸까?\n",
    "\n",
    "바로 단어!\n",
    "\n",
    "먼저 무엇이 우리의 차원일지 정의를 내려야 한다.\n",
    "\n",
    "우리는 3 차원으로 작업을 해보자.\n",
    "\n",
    "첫 번째는 Masculinity(남성성) 으로 해보자.\n",
    "\n",
    "두 번째는 Feminity(여성성)으로 하고, \n",
    "\n",
    "세 번째는 Royalty(왕족스러움)으로 한다.\n",
    "\n",
    "Masculinity | Feminity | Royalty\n",
    "\n"
   ]
  },
  {
   "cell_type": "markdown",
   "metadata": {},
   "source": [
    "본격적으로 embedding을 시작해보자.\n",
    "\n",
    "즉, 단어를 표현하는 벡터를 만들어 보자.\n",
    "\n",
    "첫 번째 예시는 king\n",
    "- king에게는 어느 정도의 Masculinity가 있을까?\n",
    "- 의미론적으로, king은 어느 정도의 남성성을 내포할까?\n",
    "\n",
    "               |Masculinity | Feminity | Royalty\n",
    "        king  |     0.9      | 0.1     |  1.0\n",
    "        queen |     0.1      |   0.9   |  1.0\n",
    "        man   |     0.9      |  0.1    |  0.0\n",
    "        woman |     0.1      |   0.9   |  0.0 \n",
    "\n",
    "위에서 우리는 단순히 점수를 매겨줬다.\n",
    "\n",
    "각 단어가 해당 특성을 얼마나 반영하는지! 그리고 이게 우리의 3D 벡터의 차원들이다.\n",
    "\n",
    "단어들을 이런 차원들로 표현할 때의 멋진점은 무엇일까?\n",
    "\n",
    "바로 다른 단어를 얻기 위해 가진 단어를 가지고 연산을 할 수 있다는 사실이다.\n",
    "\n"
   ]
  },
  {
   "cell_type": "markdown",
   "metadata": {},
   "source": [
    "예를 들어 king - man 같은 뺄셈을 수행하면 어떤 값을 얻게 될까?\n",
    "\n",
    "            |   Masculinity | Feminity | Royalty\n",
    "    king    |     0.9      | 0.1     |  1.0\n",
    "    man     |     0.9      |  0.1    |  0.0\n",
    "\n",
    "첫번째로 우리는 Masculinity 를 가지고 있다.\n",
    "\n",
    "Masculinity 값들은 서로 상쇄되니까 (0.9 - 0.9= 0)\n",
    "\n",
    "연산결과로 얻는 단어는 0%의 Masculinity를 갖고 있다.\n",
    "\n",
    "femininity 값도 서로를 상쇄하니까 (0.1 - 0.1 = 0)\n",
    "\n",
    "0%의 femininity를 가질 것이다.\n",
    "\n",
    "royalty는 뺄 것이 없다. 100%의 royalty\n",
    "\n",
    "그렇담 0%의 Masculinity, 0%의 femininity, 100%의 royalty 를 갖는 단어는 무엇일까?\n",
    "\n",
    "아마 royal 일 것이다. 성별은 몰라도 왕족이 확실하다는 사실은 알 수 있기 때문이다.\n",
    "\n"
   ]
  },
  {
   "cell_type": "markdown",
   "metadata": {},
   "source": [
    "다음 단어는 woman.\n",
    "\n",
    "먼저 woman에 대한 값을 설정해보자.\n",
    "\n",
    "            |Masculinity| Feminity  | Royalty\n",
    "    king    |   0.9     |   0.1     |   1.0\n",
    "    man     |   0.9     |   0.1     |   0.0\n",
    "    royal   |   0.0     |   0.0     |   1.0\n",
    "    woman   |   0.1     |   0.9     |   0.0\n",
    "    queen   |   0.1     |   0.9     |   1.0\n",
    "\n",
    "이제 또 다른 단어를 embed 해보자.\n",
    "\n",
    "royal + woman 연산을 해보자.\n",
    "- 0.1 의 Masculinity\n",
    "- 0.9 의 Feminity\n",
    "- 1.0 의 Royalty\n",
    "\n",
    "이 값은 바로 queen 이다.\n",
    "\n",
    "이걸로 알 수 있는 것은 바로 단어끼리 연산을 할 수 있다는 것이다. \n",
    "\n",
    "단어를 숫자들로 치환한 덕분이다!\n",
    "\n",
    "우리는 문서들을 전부 숫자들로 바꿔줄 것이다.\n",
    "\n",
    "그러면 우리는 벡터에 대한 search(검색)작업을 할 수 있게 된다.\n",
    "\n",
    "즉, 비슷한 벡터를 찾을 수 있게 된다는 것. 이를 가까운 벡터라고 표현한다.\n",
    "\n",
    "이것이 바로 많은 추천 알고리즘들이 작동하는 방식이다.\n",
    "\n",
    "벡터 서치를 이용하여 어떤 벡터들이 가까운지 알 수 있고, 그러면 그 영화들을 사용자에게 추천할 수 있다.\n",
    "\n",
    "\n"
   ]
  },
  {
   "cell_type": "markdown",
   "metadata": {},
   "source": [
    "Embedding은 벡터들을 만드는 작업이다.\n",
    "\n",
    "우린 날 것의 벡터를 GPT3나 GPT4에게 전달하지 않는다.\n",
    "\n",
    "우리는 벡터들을 사용해서 비슷한 문서들을 검색한다는 것이다.\n",
    "\n",
    "같은 벡터 공간에 존재하는 문서들을 말이다.\n",
    "\n",
    "RAG(Retrieval Argumented Generation)을 할 때 말이야.\n",
    "\n",
    "이게 바로 embedding을 해주는 이유이다.\n",
    "\n",
    "- 추천영상: \n",
    "some stuffs mentioned in video\n",
    "\n",
    "https://turbomaze.github.io/word2vecjson/\n",
    "\n",
    "https://www.youtube.com/watch?v=2eWuYf-aZE4\n",
    "\n",
    "\n"
   ]
  }
 ],
 "metadata": {
  "kernelspec": {
   "display_name": "env",
   "language": "python",
   "name": "python3"
  },
  "language_info": {
   "name": "python",
   "version": "3.11.5"
  }
 },
 "nbformat": 4,
 "nbformat_minor": 2
}
