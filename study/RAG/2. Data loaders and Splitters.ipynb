{
 "cells": [
  {
   "cell_type": "markdown",
   "metadata": {},
   "source": [
    "RAG의 첫 번째 단계 - Retrieval\n",
    "\n",
    "Retrieval는 랭체인의 모듈로, \n",
    "\n",
    "어떻게 작동하냐면 먼저 소스 데이터가 있다면 데이터를 로드한다.\n",
    "\n",
    "그 다음에 데이터를 변환한다. 정확히는 데이터를 분할!\n",
    "\n",
    "나중에 데이터를 임베드하기 위해 데이터를 분할한다고 생각하면 된다.\n",
    "\n",
    "RAG의 첫 번째 단계: 어떤 소스에서 데이터를 Load한 후, 데이터를 분할하면서 변환하는것."
   ]
  },
  {
   "cell_type": "markdown",
   "metadata": {},
   "source": [
    "그 다음에는 변환한 데이터를 임베드 하는데, \n",
    "\n",
    "임베드 - 간단하게 말하면, 텍스트에서 컴퓨터가 이해할 수 있는 숫자로 변환하는 것.\n",
    "\n",
    "그 숫자들을 저장해뒀다가 나중에 특정 숫자를 검색하는 것이다."
   ]
  },
  {
   "cell_type": "markdown",
   "metadata": {},
   "source": [
    "랭체인의 데이터 로드에는 많은 것들이 있다.\n",
    "\n",
    "Loader는 소스에서 데이터를 추출하고 랭체인에 가져다 주는 코드이다.\n",
    "\n"
   ]
  },
  {
   "cell_type": "code",
   "execution_count": null,
   "metadata": {},
   "outputs": [],
   "source": [
    "from langchain.document_loaders import TextLoader\n",
    "\n",
    "loader = TextLoader(\"./files/chapter_one.txt\")\n",
    "\n",
    "loader.load()"
   ]
  },
  {
   "cell_type": "code",
   "execution_count": null,
   "metadata": {},
   "outputs": [],
   "source": []
  }
 ],
 "metadata": {
  "kernelspec": {
   "display_name": "env",
   "language": "python",
   "name": "python3"
  },
  "language_info": {
   "name": "python",
   "version": "3.11.5"
  }
 },
 "nbformat": 4,
 "nbformat_minor": 2
}
