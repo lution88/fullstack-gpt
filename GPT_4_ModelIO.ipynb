{
 "cells": [
  {
   "cell_type": "markdown",
   "metadata": {},
   "source": [
    "# Prompt Template\n",
    "## template를 만드는 방법: \n",
    "\n",
    "```python\n",
    "t = PromptTemplate.from_template(\"What is the capital if {country}.\")\n",
    "t.format(country=\"France\")\n",
    "\n",
    "```\n",
    "\n",
    "- {} 는 placeholder  \n",
    "- 템플릿을 만들면 좋은점은 validation 유효성 검사를 할 수 있다는 점.\n",
    "  - placeholder를 작성하지 않으면 에러가 발생한다.\n",
    "- prompt template 를 디스크에 저장하고 load 할 수 있기 때문. 규모가 큰 language model 을 만들기 시작할 때 prompt는 정말 중요하다.\n",
    "\n",
    "### .from_template 를 사용하지 않는 경우\n",
    "```python\n",
    "t = PromptTemplate(\n",
    "  template=\"What is the capital if {country}.\",\n",
    "  input_variables=[\"country\"],\n",
    ")\n",
    "t.format(country=\"France\")\n",
    "```\n",
    "- from_template만 쓰면 되는 것과 같이 동작한다.\n",
    "- from_template를 사용하면 자동으로 랭체인이 어떤 변수가 우리가 필요한지 알아서 계산하여 유효성 검사를 해주는 것.\n"
   ]
  },
  {
   "cell_type": "code",
   "execution_count": 19,
   "metadata": {},
   "outputs": [
    {
     "data": {
      "text/plain": [
       "'What is the capital if France.'"
      ]
     },
     "execution_count": 19,
     "metadata": {},
     "output_type": "execute_result"
    }
   ],
   "source": [
    "from langchain.chat_models import ChatOpenAI\n",
    "from langchain.prompts import PromptTemplate\n",
    "from langchain.prompts.few_shot import FewShotPromptTemplate, FewShotChatMessagePromptTemplate\n",
    "from langchain.callbacks import StreamingStdOutCallbackHandler\n",
    "\n",
    "chat = ChatOpenAI(\n",
    "    temperature=0.1,\n",
    "    streaming=True,\n",
    "    callbacks=[StreamingStdOutCallbackHandler()],\n",
    "\n",
    ")\n",
    "# {} 는 placeholder\n",
    "t = PromptTemplate.from_template(\"What is the capital if {country}.\")\n",
    "t.format(country=\"France\")"
   ]
  },
  {
   "cell_type": "markdown",
   "metadata": {},
   "source": [
    "# FewshotPromptTemplate 와 Fewshot Learning\n",
    "## FewShotPromptTemplate가 하는 일\n",
    "Fewshot은 모델에게 예제들을 준다는 뜻과 같다.\n",
    "더 나은 대답을 할 수 있도록 하는 예제들을 더 줄 수 있다.\n",
    "예를들어 모델에게 콤마를 써서 구분해줘, 소문자만 써야해 등 prompt로 전달하는 것보다 내가 원하는 것을 예제로 보여주는 것이 더 성공적일 것이다.\n",
    "왜냐하면? 모델이 텍스트를 만들기 때문.\n",
    "이를 통해 예제를 형식화할 수 있다.\n",
    "\n",
    "대화 기록 같은 것들을 데이터베이스에서 가져와서 FewShotPromptTemplate을 사용하여 형식화 시켜주면 더 빠르게 잘 만들 수 있다."
   ]
  },
  {
   "cell_type": "markdown",
   "metadata": {},
   "source": [
    "예제들을 리스트로 만들어 본다. example\n",
    "\n",
    "## FewShotPromptTemplate 사용\n",
    "1.  예제의 형식을 지정 \n",
    "  - 형식화 하려면 형식 지정 도구를 만들어야 한다.\n",
    "  - 예제는 데이터베이스에서 가져오거나 할 수 있다.\n",
    "\n",
    "  ```python\n",
    "    # 예제의 형식을 지정하는 방법\n",
    "  # Human 에는 질문을 넣어줄거고, AI에는 답변을 넣어준다.\n",
    "  example_template = \"\"\"\n",
    "      Human:{question}\n",
    "      AI:{answer}\n",
    "  \"\"\"\n",
    "  ```\n",
    "  \n",
    "2.  FewShotPromptTemplate을 사용한 실제 prompt\n",
    "\n",
    "suffix: 형식화 된 모든 예제 마지막에 나오는 내용.\n",
    "```python\n",
    "prompt = FewShotPromptWithTemplates(\n",
    "    example_prompt=example_prompt,\n",
    "    examples=examples,\n",
    "    suffix=\"Human: What do you know about {country}?\"\n",
    "    input_variables=[\"country\"]\n",
    ")\n",
    "```\n",
    "- example 로 형식화 하고 suffix 로 내용을 마지막에 포함.\n",
    "\n",
    "\n",
    "\n"
   ]
  },
  {
   "cell_type": "code",
   "execution_count": 20,
   "metadata": {},
   "outputs": [
    {
     "name": "stdout",
     "output_type": "stream",
     "text": [
      "AI: \n",
      "        Here is what I know:\n",
      "        Capital: Seoul\n",
      "        Language: Korean\n",
      "        Food: Kimchi and Bibimbap\n",
      "        Currency: South Korean Won"
     ]
    },
    {
     "data": {
      "text/plain": [
       "AIMessageChunk(content='AI: \\n        Here is what I know:\\n        Capital: Seoul\\n        Language: Korean\\n        Food: Kimchi and Bibimbap\\n        Currency: South Korean Won')"
      ]
     },
     "execution_count": 20,
     "metadata": {},
     "output_type": "execute_result"
    }
   ],
   "source": [
    "chat = ChatOpenAI(\n",
    "    temperature=0.1,\n",
    "    streaming=True,\n",
    "    callbacks=[StreamingStdOutCallbackHandler()],\n",
    "\n",
    ")\n",
    "\n",
    "examples = [\n",
    "    {\n",
    "        \"question\": \"What do you know about France?\",\n",
    "        \"answer\":\"\"\"\n",
    "        Here is what I know:\n",
    "        Capital: Paris\n",
    "        Language: French\n",
    "        Food: Wine and Cheese\n",
    "        Currency: Euro\n",
    "        \"\"\",\n",
    "    },\n",
    "    {\n",
    "        \"question\": \"What do you know about Italy?\",\n",
    "        \"answer\":\"\"\"\n",
    "        I know this:\n",
    "        Capital: Rome\n",
    "        Language: Italian\n",
    "        Food: Pizza and Pasta\n",
    "        Currency: Euro\n",
    "        \"\"\",\n",
    "    },\n",
    "    {\n",
    "        \"question\": \"What do you know about Greece?\",\n",
    "        \"answer\":\"\"\"\n",
    "        I know this:\n",
    "        Capital: Athens\n",
    "        Language: Greek\n",
    "        Food: Souvlaki and Feta Cheese\n",
    "        Currency: Euro\n",
    "        \"\"\",\n",
    "    }\n",
    "]\n",
    "\n",
    "# 예제의 형식을 지정하는 방법\n",
    "# Human 에는 질문을 넣어줄거고, AI에는 답변을 넣어준다.\n",
    "example_template = \"\"\"\n",
    "    Human:{question}\n",
    "    AI:{answer}\n",
    "\"\"\"\n",
    "\n",
    "example_prompt = PromptTemplate.from_template(example_template)\n",
    "\n",
    "# FewShotPromptTemplate을 사용한 실제 prompt\n",
    "prompt = FewShotPromptTemplate(\n",
    "    example_prompt=example_prompt,\n",
    "    examples=examples,\n",
    "    suffix=\"Human: What do you know about {country}?\",\n",
    "    input_variables=[\"country\"],\n",
    ")\n",
    "\n",
    "prompt.format(country=\"Korea\")\n",
    "\n",
    "chain = prompt | chat\n",
    "\n",
    "chain.invoke({\n",
    "    \"country\":\"korea\"\n",
    "})"
   ]
  },
  {
   "cell_type": "markdown",
   "metadata": {},
   "source": [
    "## FewShotChatMessagePromptTemplate\n",
    "from langchain.prompts.few_shot import FewShotChatMessagePromptTemplate\n",
    "from langchain.prompts import ChatPromptTemplate\n",
    "\n",
    "FewShotChatMessagePromptTemplate 는 suffix 같은거 필요 없음.\n"
   ]
  },
  {
   "cell_type": "code",
   "execution_count": 21,
   "metadata": {},
   "outputs": [],
   "source": [
    "from langchain.chat_models import ChatOpenAI\n",
    "from langchain.prompts import ChatPromptTemplate\n",
    "from langchain.prompts.few_shot import FewShotChatMessagePromptTemplate\n",
    "from langchain.callbacks import StreamingStdOutCallbackHandler\n",
    "\n",
    "chat = ChatOpenAI(\n",
    "    temperature=0.1,\n",
    "    streaming=True,\n",
    "    callbacks=[StreamingStdOutCallbackHandler()],\n",
    ")\n"
   ]
  },
  {
   "cell_type": "code",
   "execution_count": 30,
   "metadata": {},
   "outputs": [
    {
     "name": "stdout",
     "output_type": "stream",
     "text": [
      "I know this:\n",
      "Capital: Seoul\n",
      "Language: Korean\n",
      "Food: Kimchi and Bibimbap\n",
      "Currency: South Korean Won"
     ]
    },
    {
     "data": {
      "text/plain": [
       "AIMessageChunk(content='I know this:\\nCapital: Seoul\\nLanguage: Korean\\nFood: Kimchi and Bibimbap\\nCurrency: South Korean Won')"
      ]
     },
     "execution_count": 30,
     "metadata": {},
     "output_type": "execute_result"
    }
   ],
   "source": [
    "examples = [\n",
    "    {\n",
    "        \"country\": \"France\",\n",
    "        \"answer\": \"\"\"\n",
    "        Here is what I know:\n",
    "        Capital: Paris\n",
    "        Language: French\n",
    "        Food: Wine and Cheese\n",
    "        Currency: Euro\n",
    "        \"\"\",\n",
    "    },\n",
    "    {\n",
    "        \"country\": \"Italy\",\n",
    "        \"answer\": \"\"\"\n",
    "        I know this:\n",
    "        Capital: Rome\n",
    "        Language: Italian\n",
    "        Food: Pizza and Pasta\n",
    "        Currency: Euro\n",
    "        \"\"\",\n",
    "    },\n",
    "    {\n",
    "        \"country\": \"Greece\",\n",
    "        \"answer\": \"\"\"\n",
    "        I know this:\n",
    "        Capital: Athens\n",
    "        Language: Greek\n",
    "        Food: Souvlaki and Feta Cheese\n",
    "        Currency: Euro\n",
    "        \"\"\",\n",
    "    },\n",
    "]\n",
    "\n",
    "\n",
    "example_prompt = ChatPromptTemplate.from_messages(\n",
    "    [\n",
    "        (\"human\", \"What do you know about {country}?\"),\n",
    "        (\"ai\", \"{answer}\"),\n",
    "    ]\n",
    ")\n",
    "\n",
    "# example 목록에 있는 각 예제의 형식을 지정.\n",
    "# ChatPromptTemplate를 사용하여 형식을 지정해줌.\n",
    "example_prompt = FewShotChatMessagePromptTemplate(\n",
    "    example_prompt=example_prompt,\n",
    "    examples=examples,\n",
    ")\n",
    "\n",
    "final_prompt = ChatPromptTemplate.from_messages(\n",
    "    [\n",
    "        (\"system\", \"You are a geography expert, you give short answers and short opinion of country.\"),\n",
    "        example_prompt,\n",
    "        (\"human\", \"What do you know about {country}?\"),\n",
    "    ]\n",
    ")\n",
    "\n",
    "\n",
    "chain = final_prompt | chat\n",
    "\n",
    "chain.invoke({\"country\": \"korea\"})"
   ]
  },
  {
   "cell_type": "code",
   "execution_count": null,
   "metadata": {},
   "outputs": [],
   "source": []
  }
 ],
 "metadata": {
  "kernelspec": {
   "display_name": "env",
   "language": "python",
   "name": "python3"
  },
  "language_info": {
   "codemirror_mode": {
    "name": "ipython",
    "version": 3
   },
   "file_extension": ".py",
   "mimetype": "text/x-python",
   "name": "python",
   "nbconvert_exporter": "python",
   "pygments_lexer": "ipython3",
   "version": "3.10.4"
  }
 },
 "nbformat": 4,
 "nbformat_minor": 2
}
